{
 "cells": [
  {
   "cell_type": "code",
   "execution_count": 2,
   "id": "deadly-reflection",
   "metadata": {},
   "outputs": [],
   "source": [
    "%matplotlib inline\n",
    "\n",
    "import numpy as np\n",
    "import matplotlib.pyplot as plt"
   ]
  },
  {
   "attachments": {},
   "cell_type": "markdown",
   "id": "c397f87c-1434-4879-8aed-a09678dbf493",
   "metadata": {},
   "source": [
    "# Polynomial"
   ]
  },
  {
   "attachments": {},
   "cell_type": "markdown",
   "id": "9f45b3eb-be4d-49c2-8296-5b0d005e17e7",
   "metadata": {},
   "source": [
    "$$\n",
    "P_2(x) = 1 + 2x + 3x^2\n",
    "$$"
   ]
  },
  {
   "cell_type": "code",
   "execution_count": 3,
   "id": "afbbcf01-3a1c-4746-9991-14613068d9c2",
   "metadata": {},
   "outputs": [],
   "source": [
    "def Pn(coefficients: np.ndarray | list, x: float | np.ndarray):\n",
    "    value = 0.0\n",
    "    for i in range(len(coefficients)):\n",
    "        value += coefficients[i] * x ** i\n",
    "        \n",
    "    return value\n",
    "\n",
    "\n",
    "def Pn_v2(coefficients, x):\n",
    "    value = 0.0\n",
    "    power = 1.0\n",
    "    for i in range(len(coefficients)):\n",
    "        value += coefficients[i] * power\n",
    "        power *= x\n",
    "        \n",
    "    return value"
   ]
  },
  {
   "cell_type": "code",
   "execution_count": 4,
   "id": "cddc4353-ce2d-499f-b989-dce4cc907a1d",
   "metadata": {},
   "outputs": [
    {
     "name": "stdout",
     "output_type": "stream",
     "text": [
      "CPU times: user 8.94 ms, sys: 2.01 ms, total: 10.9 ms\n",
      "Wall time: 10.1 ms\n"
     ]
    },
    {
     "data": {
      "text/plain": [
       "0.22163949710926073"
      ]
     },
     "execution_count": 4,
     "metadata": {},
     "output_type": "execute_result"
    }
   ],
   "source": [
    "rng = np.random.default_rng(32)\n",
    "coef = rng.random(10000)\n",
    "\n",
    "%time Pn(coef, 0.1)"
   ]
  },
  {
   "cell_type": "code",
   "execution_count": 22,
   "id": "7e6f7e4d-817a-4e87-bbda-7c1c1ad3847b",
   "metadata": {},
   "outputs": [
    {
     "name": "stdout",
     "output_type": "stream",
     "text": [
      "CPU times: user 5.21 ms, sys: 761 µs, total: 5.97 ms\n",
      "Wall time: 5.86 ms\n"
     ]
    },
    {
     "data": {
      "text/plain": [
       "0.22163949710926073"
      ]
     },
     "execution_count": 22,
     "metadata": {},
     "output_type": "execute_result"
    }
   ],
   "source": [
    "# coef = np.arange(10000)\n",
    "%time Pn_v2(coef, 0.1)"
   ]
  },
  {
   "cell_type": "code",
   "execution_count": 24,
   "id": "bcd1532a-9b45-4e30-8864-f9ca16d22ad9",
   "metadata": {},
   "outputs": [],
   "source": [
    "x = np.arange(100) * 0.01\n",
    "\n",
    "y = []"
   ]
  },
  {
   "cell_type": "code",
   "execution_count": 25,
   "id": "851dba5c-0107-463b-8137-008e8a7c730b",
   "metadata": {},
   "outputs": [
    {
     "name": "stdout",
     "output_type": "stream",
     "text": [
      "CPU times: user 576 ms, sys: 2.88 ms, total: 579 ms\n",
      "Wall time: 576 ms\n"
     ]
    }
   ],
   "source": [
    "%%time\n",
    "for x_i in x:\n",
    "    y.append(Pn(coef, x_i))"
   ]
  },
  {
   "cell_type": "code",
   "execution_count": 29,
   "id": "01708aa4-c28f-4ab0-bbb8-3d98b6dfe506",
   "metadata": {},
   "outputs": [
    {
     "name": "stdout",
     "output_type": "stream",
     "text": [
      "CPU times: user 51.2 ms, sys: 1.15 ms, total: 52.3 ms\n",
      "Wall time: 50.4 ms\n"
     ]
    },
    {
     "data": {
      "text/plain": [
       "array([ 0.16024283,  0.16600317,  0.17184097,  0.17775844,  0.18375796,\n",
       "        0.18984212,  0.19601374,  0.20227587,  0.20863178,  0.21508504,\n",
       "        0.2216395 ,  0.22829929,  0.23506889,  0.24195311,  0.24895713,\n",
       "        0.25608653,  0.2633473 ,  0.27074589,  0.27828919,  0.28598465,\n",
       "        0.29384021,  0.3018644 ,  0.31006638,  0.31845594,  0.32704356,\n",
       "        0.33584049,  0.34485873,  0.35411113,  0.36361146,  0.37337441,\n",
       "        0.3834157 ,  0.39375214,  0.40440168,  0.41538354,  0.42671823,\n",
       "        0.43842768,  0.45053533,  0.46306624,  0.47604719,  0.48950683,\n",
       "        0.50347579,  0.51798683,  0.53307503,  0.54877793,  0.56513571,\n",
       "        0.58219147,  0.59999136,  0.61858494,  0.63802535,  0.65836971,\n",
       "        0.6796794 ,  0.70202049,  0.7254641 ,  0.7500869 ,  0.77597166,\n",
       "        0.80320777,  0.83189197,  0.86212903,  0.8940326 ,  0.92772619,\n",
       "        0.96334417,  1.00103309,  1.04095296,  1.08327894,  1.12820317,\n",
       "        1.17593685,  1.22671279,  1.28078828,  1.33844848,  1.40001048,\n",
       "        1.46582807,  1.53629748,  1.61186429,  1.69303184,  1.78037158,\n",
       "        1.87453582,  1.97627372,  2.08645149,  2.20607829,  2.33633965,\n",
       "        2.4786415 ,  2.63466869,  2.80646413,  2.99653751,  3.20801721,\n",
       "        3.44486643,  3.71219681,  4.01673312,  4.36751841,  4.77701251,\n",
       "        5.26285674,  5.85081392,  6.57988617,  7.51171938,  8.74910032,\n",
       "       10.47568419, 13.05216663, 17.29394948, 25.54806953, 49.41490337])"
      ]
     },
     "execution_count": 29,
     "metadata": {},
     "output_type": "execute_result"
    }
   ],
   "source": [
    "%time Pn_v2(coef, x)"
   ]
  },
  {
   "attachments": {},
   "cell_type": "markdown",
   "id": "950b8518",
   "metadata": {},
   "source": [
    "# Regression problem"
   ]
  },
  {
   "attachments": {},
   "cell_type": "markdown",
   "id": "827f375e",
   "metadata": {},
   "source": [
    "Given dataset\n",
    "\n",
    "$$\n",
    "\\{(x_i, y_i)\\}_{i=0}^{N-1}\n",
    "$$\n",
    "\n",
    "where\n",
    "\n",
    "$$\n",
    "y_i = f(x_i)\n",
    "$$\n",
    "\n",
    "where $f(x)$ is the underlying function (ground truth / target function)."
   ]
  },
  {
   "attachments": {},
   "cell_type": "markdown",
   "id": "901e10f0",
   "metadata": {},
   "source": [
    "Regression problem is to find parameters $\\theta$ from a model function $f_{\\theta}(x)$ that minimize the following least square error:\n",
    "\n",
    "$$\n",
    "\\min_{\\theta} L(\\theta) = \\min_\\theta \\frac{1}{2N}\\sum_{i=0}^{N-1} \\left(f_{\\theta}(x_i) - y_i \\right)^2\n",
    "$$"
   ]
  },
  {
   "attachments": {},
   "cell_type": "markdown",
   "id": "658f619c",
   "metadata": {},
   "source": [
    "$$\n",
    "\\theta^{k+1} = \\theta^k - t \\nabla_{\\theta}L(\\theta^k)\n",
    "$$\n",
    "\n",
    "$$\n",
    "\\nabla_{\\theta}L(\\theta) = \\frac{1}{N} \\sum_{i=0}^{N-1} \\left(f_{\\theta}(x_i) - y_i \\right) \\nabla_{\\theta}f_\\theta(x_i)\n",
    "$$"
   ]
  },
  {
   "attachments": {},
   "cell_type": "markdown",
   "id": "88f8b125",
   "metadata": {},
   "source": [
    "## Linear Regression\n",
    "\n",
    "Model function:\n",
    "\n",
    "$$\n",
    "f_{\\theta}(x) = \\tanh(wx + b)\n",
    "$$\n",
    "\n",
    "$$\n",
    "\\theta = [w, b]\n",
    "$$"
   ]
  },
  {
   "cell_type": "code",
   "execution_count": 95,
   "id": "636315aa-8139-4d13-b442-69eb78e3613f",
   "metadata": {},
   "outputs": [],
   "source": [
    "def linear(w: float, b: float, x: np.ndarray):\n",
    "    return np.tanh(w * x + b)\n",
    "\n",
    "def grad_w(w, b, x):\n",
    "    return x / np.cosh(w * x + b) ** 2\n",
    "\n",
    "def grad_b(w, b, x):\n",
    "    return 1 / np.cosh(w * x + b) ** 2"
   ]
  },
  {
   "cell_type": "code",
   "execution_count": 96,
   "id": "c8709d6a-df49-49a6-a165-f9cb9b07eb34",
   "metadata": {},
   "outputs": [],
   "source": [
    "def gd_step(params: tuple[float] | list[float], t: float, x: np.ndarray, y: np.ndarray):\n",
    "    wk, bk = params\n",
    "    w = wk - t * np.mean((linear(wk, bk, x) - y) * grad_w(wk, bk, x))\n",
    "    b = bk - t * np.mean((linear(wk, bk, x) - y) * grad_b(wk, bk, x))\n",
    "    return w, b"
   ]
  },
  {
   "cell_type": "code",
   "execution_count": 30,
   "id": "e88838df-1bed-4b0c-a09d-a654bb35d752",
   "metadata": {},
   "outputs": [],
   "source": [
    "def newton_step(params, t, x, y):\n",
    "    wk, bk = params\n",
    "    gw = np.mean((linear(wk, bk, x) - y) * grad_w(x))\n",
    "    gb = np.mean((linear(wk, bk, x) - y) * grad_b(x))\n",
    "\n",
    "    H = np.zeros((2, 2))\n",
    "    H[0, 0] = np.mean(grad_w(x) * grad_w(x))\n",
    "    H[0, 1] = np.mean(grad_w(x) * grad_b(x))\n",
    "    H[1, 0] = np.mean(grad_b(x) * grad_w(x))\n",
    "    H[1, 1] = np.mean(grad_b(x) * grad_b(x))\n",
    "    \n",
    "    # [gw, gb] shape: (2,)\n",
    "    # np.dot(np.stack([gw, gb]), np.linalg.inv(H))\n",
    "    dwb = np.stack([gw, gb]).dot(np.linalg.inv(H))\n",
    "    \n",
    "    return wk - t * dwb[0], bk - t * dwb[1]"
   ]
  },
  {
   "cell_type": "code",
   "execution_count": 152,
   "id": "bd7269a4",
   "metadata": {},
   "outputs": [
    {
     "data": {
      "text/plain": [
       "array([[0, 1],\n",
       "       [0, 1]])"
      ]
     },
     "execution_count": 152,
     "metadata": {},
     "output_type": "execute_result"
    }
   ],
   "source": [
    "a, b = np.arange(2), np.arange(2)\n",
    "\n",
    "np.stack([a, b], axis=0)"
   ]
  },
  {
   "attachments": {},
   "cell_type": "markdown",
   "id": "technical-safety",
   "metadata": {},
   "source": [
    "# Runge function"
   ]
  },
  {
   "attachments": {},
   "cell_type": "markdown",
   "id": "requested-replica",
   "metadata": {},
   "source": [
    "Consider the function\n",
    "\n",
    "$$\n",
    "R(x) = \\frac{1}{1+x^2}, \\quad\\quad x\\in[-5,5]\n",
    "$$\n",
    "\n",
    "Let's plot the function first:"
   ]
  },
  {
   "cell_type": "code",
   "execution_count": 97,
   "id": "thirty-justice",
   "metadata": {},
   "outputs": [],
   "source": [
    "x = np.linspace(-5, 5, 100)"
   ]
  },
  {
   "cell_type": "code",
   "execution_count": 98,
   "id": "differential-hungarian",
   "metadata": {},
   "outputs": [
    {
     "data": {
      "text/plain": [
       "[<matplotlib.lines.Line2D at 0x7fc4b699f450>]"
      ]
     },
     "execution_count": 98,
     "metadata": {},
     "output_type": "execute_result"
    },
    {
     "data": {
      "image/png": "[encoded data removed]",
      "text/plain": [
       "<Figure size 640x480 with 1 Axes>"
      ]
     },
     "metadata": {},
     "output_type": "display_data"
    }
   ],
   "source": [
    "def R(x):\n",
    "    return 1.0 / (1.0 + x**2)\n",
    "\n",
    "fig, ax = plt.subplots()\n",
    "ax.set_title(\"Runge function\", fontsize=18)\n",
    "ax.set_xlabel(r\"$x$\", fontsize=14)\n",
    "ax.set_ylabel(r\"$f(x)$\", fontsize=14)\n",
    "ax.plot(x, R(x))"
   ]
  },
  {
   "cell_type": "code",
   "execution_count": 99,
   "id": "2bcefc0d",
   "metadata": {},
   "outputs": [],
   "source": [
    "def fit(x, y, init_params, init_t, eps=1e-4, max_steps=10000, step_fn=gd_step):\n",
    "    params, t = init_params, init_t\n",
    "    \n",
    "    for step in range(max_steps):\n",
    "        new_params = step_fn(params, t, x, y)\n",
    "        diff = np.asarray(new_params) - np.asarray(params)\n",
    "        if  np.sqrt(np.sum(diff**2)) < eps:\n",
    "            return new_params, step\n",
    "        else:\n",
    "            params = new_params\n",
    "\n",
    "    return new_params, step"
   ]
  },
  {
   "cell_type": "code",
   "execution_count": 128,
   "id": "8dc62aa5-ec09-4a95-aa09-5aa320bd3de7",
   "metadata": {},
   "outputs": [
    {
     "data": {
      "text/plain": [
       "[<matplotlib.lines.Line2D at 0x7fc4b65ef650>]"
      ]
     },
     "execution_count": 128,
     "metadata": {},
     "output_type": "execute_result"
    },
    {
     "data": {
      "image/png": "[encoded data removed]",
      "text/plain": [
       "<Figure size 640x480 with 1 Axes>"
      ]
     },
     "metadata": {},
     "output_type": "display_data"
    }
   ],
   "source": [
    "x = np.linspace(0, 1, 1000)\n",
    "y = R(x)\n",
    "\n",
    "plt.plot(x, y)"
   ]
  },
  {
   "cell_type": "code",
   "execution_count": 142,
   "id": "2052d90a",
   "metadata": {},
   "outputs": [
    {
     "data": {
      "text/plain": [
       "9999"
      ]
     },
     "execution_count": 142,
     "metadata": {},
     "output_type": "execute_result"
    }
   ],
   "source": [
    "(w_m, b_m), num_steps = fit(x, y, [-10.0, 1.0], 0.001)\n",
    "num_steps"
   ]
  },
  {
   "cell_type": "code",
   "execution_count": 143,
   "id": "96d977b8-1479-4876-9d2b-c3a93d04ef16",
   "metadata": {},
   "outputs": [
    {
     "data": {
      "text/plain": [
       "(-9.509704247316924, 2.938312463677004)"
      ]
     },
     "execution_count": 143,
     "metadata": {},
     "output_type": "execute_result"
    }
   ],
   "source": [
    "w_m, b_m"
   ]
  },
  {
   "cell_type": "code",
   "execution_count": 144,
   "id": "82525280",
   "metadata": {},
   "outputs": [
    {
     "data": {
      "text/plain": [
       "[<matplotlib.lines.Line2D at 0x7fc4b63ff650>]"
      ]
     },
     "execution_count": 144,
     "metadata": {},
     "output_type": "execute_result"
    },
    {
     "data": {
      "image/png": "[encoded data removed]",
      "text/plain": [
       "<Figure size 640x480 with 1 Axes>"
      ]
     },
     "metadata": {},
     "output_type": "display_data"
    }
   ],
   "source": [
    "plt.plot(x, linear(w_m, b_m, x))"
   ]
  },
  {
   "attachments": {},
   "cell_type": "markdown",
   "id": "37b37c1d",
   "metadata": {},
   "source": [
    "## General Polynomial fitting with GD"
   ]
  },
  {
   "cell_type": "code",
   "execution_count": 41,
   "id": "f9dee931-e39e-4fe3-9bcc-f0d58c6b758a",
   "metadata": {},
   "outputs": [],
   "source": [
    "def linear(params: np.ndarray, x: np.ndarray):\n",
    "    return params[0] * x + params[1]\n",
    "\n",
    "def quadratic(params: np.ndarray, x: np.ndarray):\n",
    "    return params[0] * x**2 + params[1] * x + params[2]\n",
    "\n",
    "# shape x: (N,), grad(x): (N, 2)\n",
    "def grad_linear(x):\n",
    "    grad = np.stack([x, np.ones_like(x)], axis=-1)\n",
    "    return grad\n",
    "        \n",
    "# grad(x): (N, 3)\n",
    "def grad_quad(x):\n",
    "    grad = np.stack([x**2, x, np.ones_like(x)], axis=-1)\n",
    "    return grad\n",
    "\n",
    "def gd_step(params: np.ndarray, t: float, x: np.ndarray, y: np.ndarray):\n",
    "    params -= t * np.mean((quadratic(params, x) - y)[..., None] * grad_quad(x), axis=0)\n",
    "    return params"
   ]
  },
  {
   "attachments": {},
   "cell_type": "markdown",
   "id": "62c43178",
   "metadata": {},
   "source": [
    "### Create general polynomial model and their grads"
   ]
  },
  {
   "cell_type": "code",
   "execution_count": 26,
   "id": "24731848",
   "metadata": {},
   "outputs": [
    {
     "name": "stdout",
     "output_type": "stream",
     "text": [
      "2\n",
      "1\n"
     ]
    }
   ],
   "source": [
    "for i in reversed(range(1, 3)):\n",
    "    print(i)"
   ]
  },
  {
   "cell_type": "code",
   "execution_count": 43,
   "id": "4ea60cb3",
   "metadata": {},
   "outputs": [],
   "source": [
    "# Create a n-th order polynomial function\n",
    "def create_poly_fn(n):\n",
    "    def poly_fn(params, x):\n",
    "        assert params.shape[0] == n + 1, f\"Number of params should equal {n + 1}\"\n",
    "        value, power = 0.0, 1.0\n",
    "        for i in range(n + 1):\n",
    "            value += params[n-i] * power\n",
    "            power *= x\n",
    "        return value\n",
    "\n",
    "    return poly_fn\n",
    "\n",
    "def create_grad_poly_fn(n):\n",
    "    def grad_poly_fn(x):\n",
    "        stack_list = [x**(n-i) for i in range(n)] + [np.ones_like(x)]\n",
    "        grad = np.stack(stack_list, axis=-1)\n",
    "        return grad\n",
    "\n",
    "    return grad_poly_fn\n"
   ]
  },
  {
   "cell_type": "code",
   "execution_count": 61,
   "id": "e7b6fd47",
   "metadata": {},
   "outputs": [],
   "source": [
    "# For example, create 3th order polynomial function and its gradient function\n",
    "n = 4\n",
    "poly_fn = create_poly_fn(n)\n",
    "grad_poly_fn = create_grad_poly_fn(n)\n",
    "\n",
    "def gd_step(params: np.ndarray, t: float, x: np.ndarray, y: np.ndarray):\n",
    "    params -= t * np.mean((poly_fn(params, x) - y)[..., None] * grad_poly_fn(x), axis=0)\n",
    "    return params"
   ]
  },
  {
   "cell_type": "code",
   "execution_count": 62,
   "id": "67e0d31f-bbbb-4c47-a7d0-af1a3d976c54",
   "metadata": {},
   "outputs": [],
   "source": [
    "def fit(x, y, init_params, init_t, eps=1e-4, max_steps=100000):\n",
    "    params, t = init_params, init_t\n",
    "    \n",
    "    for step in range(max_steps):\n",
    "        old_params = params.copy()\n",
    "        params = gd_step(params, t, x, y)\n",
    "        if  np.sqrt(np.sum((params - old_params)**2)) < eps:\n",
    "            return params, step\n",
    "\n",
    "    return params, step"
   ]
  },
  {
   "cell_type": "code",
   "execution_count": 68,
   "id": "6a823efe-2464-4692-9f16-725a8f338720",
   "metadata": {},
   "outputs": [
    {
     "data": {
      "text/plain": [
       "[<matplotlib.lines.Line2D at 0x7fc4b9897dd0>]"
      ]
     },
     "execution_count": 68,
     "metadata": {},
     "output_type": "execute_result"
    },
    {
     "data": {
      "image/png": "[encoded data removed]",
      "text/plain": [
       "<Figure size 640x480 with 1 Axes>"
      ]
     },
     "metadata": {},
     "output_type": "display_data"
    }
   ],
   "source": [
    "x = np.linspace(-0.5, 0.5, 1000)\n",
    "y = R(x)\n",
    "\n",
    "plt.plot(x, y)"
   ]
  },
  {
   "cell_type": "code",
   "execution_count": 69,
   "id": "0ffd3fe1-b78b-4188-bb9e-fbd693e07491",
   "metadata": {},
   "outputs": [
    {
     "data": {
      "text/plain": [
       "(array([ 0.59023321,  0.28118358, -0.94888515, -0.04244048,  0.99899239]),\n",
       " 3080)"
      ]
     },
     "execution_count": 69,
     "metadata": {},
     "output_type": "execute_result"
    }
   ],
   "source": [
    "params_min, num_steps = fit(x, y, np.array([1.0, 1.0, 1.0, 1.0, 1.0]), 1.0)\n",
    "params_min, num_steps"
   ]
  },
  {
   "cell_type": "code",
   "execution_count": 70,
   "id": "f7329ce4-b502-4fbc-9409-d4582619f584",
   "metadata": {},
   "outputs": [
    {
     "data": {
      "text/plain": [
       "[<matplotlib.lines.Line2D at 0x7fc4b7540610>]"
      ]
     },
     "execution_count": 70,
     "metadata": {},
     "output_type": "execute_result"
    },
    {
     "data": {
      "image/png": "[encoded data removed]",
      "text/plain": [
       "<Figure size 640x480 with 1 Axes>"
      ]
     },
     "metadata": {},
     "output_type": "display_data"
    }
   ],
   "source": [
    "plt.plot(x, poly_fn(params_min, x))"
   ]
  }
 ],
 "metadata": {
  "kernelspec": {
   "display_name": "Python 3 (ipykernel)",
   "language": "python",
   "name": "python3"
  },
  "language_info": {
   "codemirror_mode": {
    "name": "ipython",
    "version": 3
   },
   "file_extension": ".py",
   "mimetype": "text/x-python",
   "name": "python",
   "nbconvert_exporter": "python",
   "pygments_lexer": "ipython3",
   "version": "3.11.3"
  },
  "vscode": {
   "interpreter": {
    "hash": "949777d72b0d2535278d3dc13498b2535136f6dfe0678499012e853ee9abcab1"
   }
  }
 },
 "nbformat": 4,
 "nbformat_minor": 5
}
