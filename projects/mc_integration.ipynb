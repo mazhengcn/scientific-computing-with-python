{
 "cells": [
  {
   "cell_type": "code",
   "execution_count": 1,
   "metadata": {},
   "outputs": [],
   "source": [
    "%matplotlib inline\n",
    "\n",
    "import numpy as np\n",
    "import matplotlib.pyplot as plt\n",
    "\n",
    "from typing import Callable"
   ]
  },
  {
   "cell_type": "code",
   "execution_count": 4,
   "metadata": {},
   "outputs": [],
   "source": [
    "# Define some types\n",
    "\n",
    "Func= Callable[..., np.float64]"
   ]
  },
  {
   "cell_type": "markdown",
   "metadata": {},
   "source": [
    "# Monte Carlo Integration"
   ]
  },
  {
   "cell_type": "markdown",
   "metadata": {},
   "source": [
    "$$\n",
    "I(f) = \\int_{\\Omega} f(x) \\, dx, \\quad x\\in\\mathbb{R}^d\n",
    "$$"
   ]
  },
  {
   "cell_type": "markdown",
   "metadata": {},
   "source": [
    "## Numerical Integration\n",
    "\n",
    "Any numerical integration method (including Monte Carlo Method) can be written in the following form:\n",
    "\n",
    "$$\n",
    "I_N(f) \\approx \\sum_{i=1}^N A_i f(x_i)\n",
    "$$"
   ]
  },
  {
   "cell_type": "code",
   "execution_count": 9,
   "metadata": {},
   "outputs": [],
   "source": [
    "a = 0.0\n",
    "b = 1.0"
   ]
  },
  {
   "cell_type": "code",
   "execution_count": 6,
   "metadata": {},
   "outputs": [],
   "source": [
    "tmp = b\n",
    "b = a\n",
    "a = tmp"
   ]
  },
  {
   "cell_type": "code",
   "execution_count": 11,
   "metadata": {},
   "outputs": [],
   "source": [
    "a, b = b, a"
   ]
  },
  {
   "cell_type": "code",
   "execution_count": 12,
   "metadata": {},
   "outputs": [
    {
     "data": {
      "text/plain": [
       "(1.0, 0.0)"
      ]
     },
     "execution_count": 12,
     "metadata": {},
     "output_type": "execute_result"
    }
   ],
   "source": [
    "a, b"
   ]
  },
  {
   "cell_type": "code",
   "execution_count": 5,
   "metadata": {},
   "outputs": [],
   "source": [
    "# quads = (points, weights)\n",
    "# shape: ((N,d), (N,))\n",
    "def integrate_test(f: Func, quads: tuple[np.ndarray, np.ndarray]):\n",
    "    # points = quads[0]\n",
    "    # weights = quads[1]\n",
    "    # points, weights = quads[0], quads[1]\n",
    "    points, weights = quads\n",
    "    assert points.shape[0] == weights.shape[0], \"Number of points and weights must be the same.\"\n",
    "    \n",
    "    num_points = points.shape[0]\n",
    "    integration = 0.0 \n",
    "    for i in range(num_points):\n",
    "        integration += weights[i] * f(points[i])\n",
    "\n",
    "    return integration"
   ]
  },
  {
   "cell_type": "code",
   "execution_count": 6,
   "metadata": {},
   "outputs": [],
   "source": [
    "# quads = (points, weights)\n",
    "# shape: ((N,d), (N,))\n",
    "def integrate(f: Func, quads: tuple[np.ndarray, np.ndarray]):\n",
    "    points, weights = quads\n",
    "    if isinstance(weights, np.ndarray):\n",
    "        assert points.shape[0] == weights.shape[0]\n",
    "    # weights: (N,)\n",
    "    # f(points): (N,)\n",
    "    integration = np.sum(weights * f(points))\n",
    "    return integration"
   ]
  },
  {
   "cell_type": "markdown",
   "metadata": {},
   "source": [
    "### Example 1\n",
    "\n",
    "$$\n",
    "\\int_0^{\\frac{\\pi}{2}} \\sin x\\, dx = 1,\n",
    "$$"
   ]
  },
  {
   "cell_type": "markdown",
   "metadata": {},
   "source": [
    "## Determinastic Methods\n",
    "\n",
    "Trapezoidal formula (复合梯形法)\n",
    "\n",
    "$$\n",
    "I(f) \\approx \\{\\frac{1}{2}f(x_1) + \\sum_{i=2}^{N-1} f(x_i) + \\frac{1}{2}f(x_N)\\} \\times h\n",
    "$$"
   ]
  },
  {
   "cell_type": "code",
   "execution_count": 15,
   "metadata": {},
   "outputs": [],
   "source": [
    "def f1(x: np.ndarray):\n",
    "    return np.sin(x)"
   ]
  },
  {
   "cell_type": "code",
   "execution_count": 30,
   "metadata": {},
   "outputs": [],
   "source": [
    "N = 1000\n",
    "h = 0.5 * np.pi / (N-1)\n",
    "\n",
    "points = np.linspace(0, 0.5 * np.pi, N)\n",
    "weights = np.ones((N)) * h \n",
    "weights[0] = weights[-1] = 0.5 * h"
   ]
  },
  {
   "cell_type": "code",
   "execution_count": 31,
   "metadata": {},
   "outputs": [
    {
     "name": "stdout",
     "output_type": "stream",
     "text": [
      "1.07 ms ± 17.2 µs per loop (mean ± std. dev. of 7 runs, 1,000 loops each)\n"
     ]
    }
   ],
   "source": [
    "%timeit I1 = integrate_test(f1, (points, weights))"
   ]
  },
  {
   "cell_type": "code",
   "execution_count": 25,
   "metadata": {},
   "outputs": [
    {
     "data": {
      "text/plain": [
       "0.999979020750832"
      ]
     },
     "execution_count": 25,
     "metadata": {},
     "output_type": "execute_result"
    }
   ],
   "source": [
    "I1"
   ]
  },
  {
   "cell_type": "code",
   "execution_count": 32,
   "metadata": {},
   "outputs": [
    {
     "name": "stdout",
     "output_type": "stream",
     "text": [
      "10 µs ± 60.4 ns per loop (mean ± std. dev. of 7 runs, 100,000 loops each)\n"
     ]
    }
   ],
   "source": [
    "%timeit I2 = integrate(f1, (points, weights))"
   ]
  },
  {
   "cell_type": "code",
   "execution_count": 28,
   "metadata": {},
   "outputs": [
    {
     "name": "stdout",
     "output_type": "stream",
     "text": [
      "CPU times: user 4 µs, sys: 1 µs, total: 5 µs\n",
      "Wall time: 9.06 µs\n"
     ]
    }
   ],
   "source": [
    "%time\n",
    "errs = []\n",
    "\n",
    "for h in [0.5, 0.25, 0.1, 0.05, 0.02, 0.01]:\n",
    "    N = int(0.5 * np.pi / h) + 1\n",
    "    points = np.linspace(0, 0.5 * np.pi, N)\n",
    "    weights = np.ones((N)) * h \n",
    "    weights[0] = weights[-1] = 0.5 * h\n",
    "    I = integrate_test(f1, (points, weights))\n",
    "    errs.append(np.abs(I - 1.0))"
   ]
  },
  {
   "cell_type": "code",
   "execution_count": 29,
   "metadata": {},
   "outputs": [
    {
     "data": {
      "text/plain": [
       "[<matplotlib.lines.Line2D at 0x7f22d2b566d0>]"
      ]
     },
     "execution_count": 29,
     "metadata": {},
     "output_type": "execute_result"
    },
    {
     "data": {
      "image/png": "[encoded data removed]",
      "text/plain": [
       "<Figure size 640x480 with 1 Axes>"
      ]
     },
     "metadata": {},
     "output_type": "display_data"
    }
   ],
   "source": [
    "plt.loglog([0.5, 0.25, 0.1, 0.05, 0.02, 0.01], errs)"
   ]
  },
  {
   "cell_type": "markdown",
   "metadata": {},
   "source": [
    "### Gauss"
   ]
  },
  {
   "cell_type": "code",
   "execution_count": 39,
   "metadata": {},
   "outputs": [],
   "source": [
    "N = 10\n",
    "a, b = 0.0, np.pi/2\n",
    "points, weights = np.polynomial.legendre.leggauss(N)\n"
   ]
  },
  {
   "cell_type": "code",
   "execution_count": 34,
   "metadata": {},
   "outputs": [
    {
     "data": {
      "text/plain": [
       "(array([-0.98799252, -0.93727339, -0.84820658, -0.72441773, -0.57097217,\n",
       "        -0.39415135, -0.20119409,  0.        ,  0.20119409,  0.39415135,\n",
       "         0.57097217,  0.72441773,  0.84820658,  0.93727339,  0.98799252]),\n",
       " array([0.03075324, 0.07036605, 0.10715922, 0.13957068, 0.16626921,\n",
       "        0.186161  , 0.19843149, 0.20257824, 0.19843149, 0.186161  ,\n",
       "        0.16626921, 0.13957068, 0.10715922, 0.07036605, 0.03075324]))"
      ]
     },
     "execution_count": 34,
     "metadata": {},
     "output_type": "execute_result"
    }
   ],
   "source": [
    "points, weights"
   ]
  },
  {
   "cell_type": "code",
   "execution_count": 40,
   "metadata": {},
   "outputs": [],
   "source": [
    "\n",
    "points = 0.5*(points + 1)*(b - a) + a\n",
    "weights = weights * 0.5 * (b - a)"
   ]
  },
  {
   "cell_type": "code",
   "execution_count": 36,
   "metadata": {},
   "outputs": [
    {
     "data": {
      "text/plain": [
       "(array([0.00943065, 0.04926536, 0.11921827, 0.21644181, 0.33695767,\n",
       "        0.47583242, 0.62738069, 0.78539816, 0.94341564, 1.09496391,\n",
       "        1.23383866, 1.35435452, 1.45157806, 1.52153096, 1.56136567]),\n",
       " array([0.02415354, 0.05526536, 0.08416265, 0.10961855, 0.13058753,\n",
       "        0.14621051, 0.15584772, 0.15910458, 0.15584772, 0.14621051,\n",
       "        0.13058753, 0.10961855, 0.08416265, 0.05526536, 0.02415354]))"
      ]
     },
     "execution_count": 36,
     "metadata": {},
     "output_type": "execute_result"
    }
   ],
   "source": [
    "points, weights"
   ]
  },
  {
   "cell_type": "code",
   "execution_count": 41,
   "metadata": {},
   "outputs": [],
   "source": [
    "Gauss_I = integrate(f1, (points, weights))"
   ]
  },
  {
   "cell_type": "code",
   "execution_count": 42,
   "metadata": {},
   "outputs": [
    {
     "data": {
      "text/plain": [
       "1.0"
      ]
     },
     "execution_count": 42,
     "metadata": {},
     "output_type": "execute_result"
    }
   ],
   "source": [
    "Gauss_I"
   ]
  },
  {
   "attachments": {},
   "cell_type": "markdown",
   "metadata": {},
   "source": [
    "### Stochastic Method (Monte Carlo)\n",
    "\n",
    "$$\n",
    "I_N(f) \\approx \\frac{\\pi}{2N}\\sum_{i=1}^N f(X_i), \\quad X_i\\sim\\mathcal{U}[0,\\pi/2]\n",
    "$$"
   ]
  },
  {
   "cell_type": "markdown",
   "metadata": {},
   "source": [
    "$$\n",
    "X_{n+1} = a X_{n} + b (\\text{mod } m)\n",
    "$$"
   ]
  },
  {
   "cell_type": "code",
   "execution_count": 60,
   "metadata": {},
   "outputs": [],
   "source": [
    "# seed X_0\n",
    "seed = 1\n",
    "rng = np.random.default_rng(seed)"
   ]
  },
  {
   "cell_type": "code",
   "execution_count": 67,
   "metadata": {},
   "outputs": [
    {
     "data": {
      "text/plain": [
       "array([1.23636898, 0.30099012, 1.26035068, 0.30053092, 0.12810255,\n",
       "       1.34338739, 1.35290095, 1.37686125, 0.74127405, 0.4304742 ])"
      ]
     },
     "execution_count": 67,
     "metadata": {},
     "output_type": "execute_result"
    }
   ],
   "source": [
    "# 向量化生成随机数\n",
    "rng.uniform(0.0, np.pi/2, 10)"
   ]
  },
  {
   "cell_type": "code",
   "execution_count": 73,
   "metadata": {},
   "outputs": [
    {
     "name": "stdout",
     "output_type": "stream",
     "text": [
      "2.53 ms ± 56.3 µs per loop (mean ± std. dev. of 7 runs, 100 loops each)\n"
     ]
    }
   ],
   "source": [
    "# seed\n",
    "# rng = np.random.default_rng(1)\n",
    "\n",
    "N = 1000000\n",
    "# sample points\n",
    "rpoints = rng.uniform(0.0, np.pi/2, N)\n",
    "weights = np.pi/2/ N * np.ones((N,))\n",
    "\n",
    "%timeit MC_I = integrate(f1, (rpoints, weights))"
   ]
  },
  {
   "cell_type": "code",
   "execution_count": 72,
   "metadata": {},
   "outputs": [
    {
     "data": {
      "text/plain": [
       "0.9999621391088587"
      ]
     },
     "execution_count": 72,
     "metadata": {},
     "output_type": "execute_result"
    }
   ],
   "source": [
    "MC_I"
   ]
  },
  {
   "cell_type": "code",
   "execution_count": 74,
   "metadata": {},
   "outputs": [],
   "source": [
    "mc_errs = []\n",
    "ns = []\n",
    "for n in np.linspace(100, 100000, 20):\n",
    "    int_n = int(n)\n",
    "    ns.append(int_n)\n",
    "    rpoints = rng.uniform(0.0, np.pi/2, int_n)\n",
    "    weights = np.pi/2/n\n",
    "    MC_I = integrate(f1, (rpoints, weights))\n",
    "    mc_errs.append(np.abs(MC_I - 1.0))\n",
    "    "
   ]
  },
  {
   "cell_type": "code",
   "execution_count": 75,
   "metadata": {},
   "outputs": [
    {
     "data": {
      "text/plain": [
       "[<matplotlib.lines.Line2D at 0x7f22d26dcf90>,\n",
       " <matplotlib.lines.Line2D at 0x7f22d2596190>]"
      ]
     },
     "execution_count": 75,
     "metadata": {},
     "output_type": "execute_result"
    },
    {
     "data": {
      "image/png": "[encoded data removed]",
      "text/plain": [
       "<Figure size 640x480 with 1 Axes>"
      ]
     },
     "metadata": {},
     "output_type": "display_data"
    }
   ],
   "source": [
    "plt.loglog(ns, mc_errs, ns, 1.0 / np.sqrt(np.asarray(ns)))"
   ]
  },
  {
   "cell_type": "markdown",
   "metadata": {},
   "source": [
    "### Example 2\n",
    "\n",
    "$$\n",
    "x, y \\in [-1, 1]\n",
    "$$\n",
    "\n",
    "$$\n",
    "f(x, y) = 1, \\quad \\text{if } x^2 + y^2 < 1\n",
    "$$\n",
    "\n",
    "$$\n",
    "\\int_{[0, 1]^2} f(x, y) \\, dxdy\n",
    "$$"
   ]
  },
  {
   "cell_type": "code",
   "execution_count": 7,
   "metadata": {},
   "outputs": [],
   "source": [
    "# z: (2, N)\n",
    "def f2(z):\n",
    "    x = z[0]\n",
    "    y = z[1]\n",
    "    \n",
    "    return (x**2 + y**2 < 1) * 1.0\n",
    "    "
   ]
  },
  {
   "cell_type": "code",
   "execution_count": 8,
   "metadata": {},
   "outputs": [],
   "source": [
    "x = np.linspace(-1.0, 1.0, 100)\n",
    "y = np.linspace(-1.0, 1.0, 100)\n",
    "z = np.meshgrid(x, y)"
   ]
  },
  {
   "cell_type": "code",
   "execution_count": 9,
   "metadata": {},
   "outputs": [],
   "source": [
    "Z = f2(np.asarray(z))"
   ]
  },
  {
   "cell_type": "code",
   "execution_count": 10,
   "metadata": {},
   "outputs": [
    {
     "data": {
      "text/plain": [
       "(100, 100)"
      ]
     },
     "execution_count": 10,
     "metadata": {},
     "output_type": "execute_result"
    }
   ],
   "source": [
    "Z.shape"
   ]
  },
  {
   "cell_type": "code",
   "execution_count": 11,
   "metadata": {},
   "outputs": [
    {
     "data": {
      "text/plain": [
       "<matplotlib.contour.QuadContourSet at 0x7f6e611892d0>"
      ]
     },
     "execution_count": 11,
     "metadata": {},
     "output_type": "execute_result"
    },
    {
     "data": {
      "image/png": "[encoded data removed]",
      "text/plain": [
       "<Figure size 600x600 with 1 Axes>"
      ]
     },
     "metadata": {},
     "output_type": "display_data"
    }
   ],
   "source": [
    "X, Y = z\n",
    "fig, ax = plt.subplots(figsize=(6,6))\n",
    "ax.contourf(X, Y, Z)"
   ]
  },
  {
   "cell_type": "markdown",
   "metadata": {},
   "source": [
    "### Monte Carlo"
   ]
  },
  {
   "cell_type": "code",
   "execution_count": 12,
   "metadata": {},
   "outputs": [],
   "source": [
    "# seed\n",
    "rng = np.random.default_rng(1)"
   ]
  },
  {
   "cell_type": "code",
   "execution_count": 13,
   "metadata": {},
   "outputs": [],
   "source": [
    "N = 10000000\n",
    "# sample points\n",
    "rpoints = rng.uniform(-1.0, 1.0, (2, N))\n",
    "weights = 4.0 / N\n",
    "\n",
    "MC_I_2d = integrate(f2, (rpoints, weights))"
   ]
  },
  {
   "cell_type": "code",
   "execution_count": 14,
   "metadata": {},
   "outputs": [
    {
     "data": {
      "text/plain": [
       "3.1417296000000006"
      ]
     },
     "execution_count": 14,
     "metadata": {},
     "output_type": "execute_result"
    }
   ],
   "source": [
    "MC_I_2d"
   ]
  },
  {
   "cell_type": "markdown",
   "metadata": {},
   "source": [
    "### 中矩形公式"
   ]
  },
  {
   "cell_type": "code",
   "execution_count": 18,
   "metadata": {},
   "outputs": [],
   "source": [
    "nx = ny = 10000\n",
    "h = 2.0 / nx\n",
    "x = np.arange(-1.0 + 0.5*h, 1.0, h)\n",
    "y = np.arange(-1.0 + 0.5*h, 1.0, h)\n",
    "# (2, N=nx*xy)\n",
    "xy = np.asarray(np.meshgrid(x, y))\n",
    "points = xy.reshape(2, -1)\n",
    "weights = h**2"
   ]
  },
  {
   "cell_type": "code",
   "execution_count": 19,
   "metadata": {},
   "outputs": [],
   "source": [
    "I3 = integrate(f2, (points, weights))"
   ]
  },
  {
   "cell_type": "code",
   "execution_count": 20,
   "metadata": {},
   "outputs": [
    {
     "data": {
      "text/plain": [
       "3.1415942400000114"
      ]
     },
     "execution_count": 20,
     "metadata": {},
     "output_type": "execute_result"
    }
   ],
   "source": [
    "I3"
   ]
  },
  {
   "cell_type": "markdown",
   "metadata": {},
   "source": [
    "### Example 3\n",
    "\n",
    "$$\n",
    "\\int_{[0, 1]^d} e^{-x} \\, dx\n",
    "$$"
   ]
  }
 ],
 "metadata": {
  "interpreter": {
   "hash": "949777d72b0d2535278d3dc13498b2535136f6dfe0678499012e853ee9abcab1"
  },
  "kernelspec": {
   "display_name": "Python 3 (ipykernel)",
   "language": "python",
   "name": "python3"
  },
  "language_info": {
   "codemirror_mode": {
    "name": "ipython",
    "version": 3
   },
   "file_extension": ".py",
   "mimetype": "text/x-python",
   "name": "python",
   "nbconvert_exporter": "python",
   "pygments_lexer": "ipython3",
   "version": "3.11.3"
  }
 },
 "nbformat": 4,
 "nbformat_minor": 4
}
