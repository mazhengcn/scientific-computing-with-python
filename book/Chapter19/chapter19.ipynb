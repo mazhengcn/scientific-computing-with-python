{
 "cells": [
  {
   "cell_type": "markdown",
   "metadata": {},
   "source": [
    "# Scientific Computing with Python (Second Edition)\n",
    "\n",
    "## Chapter 19: Comprehensive Examples\n",
    "\n",
    "*We start by importing all from Numpy. As explained in Chapter 01 the examples are written assuming this import is initially done.*\n"
   ]
  },
  {
   "cell_type": "code",
   "execution_count": 1,
   "metadata": {},
   "outputs": [],
   "source": [
    "from numpy import *"
   ]
  },
  {
   "cell_type": "markdown",
   "metadata": {},
   "source": [
    "### 19.1 Polynomials\n",
    "*Here we give the complete code, which was developped step-wise in the book Section 19.1*\n",
    "#### 19.1.3 The polynomial class\n"
   ]
  },
  {
   "cell_type": "code",
   "execution_count": 2,
   "metadata": {},
   "outputs": [],
   "source": [
    "import scipy.linalg as sl\n",
    "import matplotlib.pyplot as mp\n",
    "\n",
    "class PolyNomial:\n",
    "    base='monomial'\n",
    "    def __init__(self,**args):\n",
    "        if 'points' in args:\n",
    "            self.points = array(args['points'])\n",
    "            self.xi = self.points[:,0]\n",
    "            self.coeff = self.point_2_coeff()\n",
    "            self.degree = len(self.coeff)-1\n",
    "        elif 'coeff' in args:\n",
    "            self.coeff = array(args['coeff'])\n",
    "            self.degree = len(self.coeff)-1\n",
    "            self.points = self.coeff_2_point()\n",
    "        else:\n",
    "            self.points = array([[0,0]])\n",
    "            self.xi = array([1.])\n",
    "            self.coeff = self.point_2_coeff()\n",
    "            self.degree = 0\n",
    "    def point_2_coeff(self):\n",
    "        return sl.solve(vander(self.x),self.y)\n",
    "    def coeff_2_point(self):\n",
    "        points = [[x,self(x)] for x in linspace(0,1,self.degree+1)]\n",
    "        return array(points)\n",
    "    def __call__(self,x):\n",
    "        return polyval(self.coeff,x)\n",
    "    @property\n",
    "    def x(self):\n",
    "        return self.points[:,0]\n",
    "    @property\n",
    "    def y(self):\n",
    "        return self.points[:,1]\n",
    "    def __repr__(self):\n",
    "        txt  = f'Polynomial of degree {self.degree} \\n'\n",
    "        txt += f'with coefficients {self.coeff} \\n in {self.base} basis.'\n",
    "        return txt\n",
    "    margin = .05\n",
    "    plotres = 500\n",
    "    def plot(self,ab=None,plotinterp=True):\n",
    "        if ab is None: # guess a and b\n",
    "           x = self.x\n",
    "           a, b = x.min(), x.max()\n",
    "           h = b-a\n",
    "           a -= self.margin*h\n",
    "           b += self.margin*h\n",
    "        else:\n",
    "           a,b = ab\n",
    "        x = linspace(a,b,self.plotres)\n",
    "        y = vectorize(self.__call__)(x)\n",
    "        mp.plot(x,y)\n",
    "        mp.xlabel('$x$')\n",
    "        mp.ylabel('$p(x)$')\n",
    "        if plotinterp:\n",
    "            mp.plot(self.x, self.y, 'ro')\n",
    "    def companion(self):\n",
    "        companion = eye(self.degree, k=-1)\n",
    "        companion[0,:] -= self.coeff[1:]/self.coeff[0]\n",
    "        return companion\n",
    "    def zeros(self):\n",
    "        companion = self.companion()\n",
    "        return sl.eigvals(companion)\n"
   ]
  },
  {
   "cell_type": "markdown",
   "metadata": {},
   "source": [
    "#### 19.1.4 Usage examples of the polynomial class\n"
   ]
  },
  {
   "cell_type": "code",
   "execution_count": 3,
   "metadata": {},
   "outputs": [],
   "source": [
    "p = PolyNomial(points=[(1,0),(2,3),(3,8)])"
   ]
  },
  {
   "cell_type": "code",
   "execution_count": 4,
   "metadata": {},
   "outputs": [
    {
     "data": {
      "text/plain": [
       "array([ 1.0000000e+00,  8.8817842e-16, -1.0000000e+00])"
      ]
     },
     "execution_count": 4,
     "metadata": {},
     "output_type": "execute_result"
    }
   ],
   "source": [
    "p.coeff"
   ]
  },
  {
   "cell_type": "code",
   "execution_count": 5,
   "metadata": {},
   "outputs": [
    {
     "data": {
      "image/png": "[encoded data removed]",
      "text/plain": [
       "<Figure size 432x288 with 1 Axes>"
      ]
     },
     "metadata": {
      "needs_background": "light"
     },
     "output_type": "display_data"
    }
   ],
   "source": [
    "p.plot((-3.5,3.5))"
   ]
  },
  {
   "cell_type": "code",
   "execution_count": 6,
   "metadata": {},
   "outputs": [
    {
     "name": "stdout",
     "output_type": "stream",
     "text": [
      "[-1.+0.j  1.+0.j]\n"
     ]
    }
   ],
   "source": [
    "pz = p.zeros()\n",
    "print(pz)"
   ]
  },
  {
   "cell_type": "markdown",
   "metadata": {},
   "source": [
    "#### 19.1.5 Newton polynomial\n",
    "*Again we present here the entire class directly and not the step-wise development as given in the text*"
   ]
  },
  {
   "cell_type": "code",
   "execution_count": 7,
   "metadata": {},
   "outputs": [],
   "source": [
    "class NewtonPolynomial(PolyNomial):\n",
    "    base = 'Newton'\n",
    "    def __init__(self,**args):\n",
    "        if 'coeff' in args:\n",
    "            try:\n",
    "                self.xi = array(args['xi'])\n",
    "            except KeyError: \n",
    "                raise ValueError('Coefficients need to be given'\n",
    "                'together with abscissae values xi')\n",
    "        super(NewtonPolynomial, self).__init__(**args)\n",
    "    def point_2_coeff(self):\n",
    "        return array(list(self.divdiff()))\n",
    "    def divdiff(self): \n",
    "        xi = self.xi\n",
    "        row = self.y\n",
    "        yield row[0]\n",
    "        for level in range(1,len(xi)):\n",
    "            row = (row[1:] - row[:-1])/(xi[level:] - xi[:-level])\n",
    "            if allclose(row,0): # check: elements of row nearly zero\n",
    "               self.degree = level-1\n",
    "               break\n",
    "            yield row[0]\n",
    "    def __call__(self,x):\n",
    "        # first compute the sequence 1, (x-x_1), (x-x_1)(x-x_2),...\n",
    "        nps = hstack([1., cumprod(x-self.xi[:self.degree])])\n",
    "        return self.coeff@nps\n",
    "    def companion(self):\n",
    "        degree = self.degree\n",
    "        companion = eye(degree, k=-1)\n",
    "        diagonal = identity(degree,dtype=bool)\n",
    "        companion[diagonal] = self.x[:degree]\n",
    "        companion[:,-1] -= self.coeff[:degree]/self.coeff[degree]\n",
    "        return companion"
   ]
  },
  {
   "cell_type": "code",
   "execution_count": 8,
   "metadata": {},
   "outputs": [
    {
     "name": "stdout",
     "output_type": "stream",
     "text": [
      "Polynomial of degree 3 \n",
      "with coefficients [ 0.          2.         -4.          2.66666667] \n",
      " in Newton basis.\n"
     ]
    }
   ],
   "source": [
    "# here we define the interpolation data: (x,y) pairs\n",
    "pts = array([[0.,0],[.5,1],[1.,0],[2,0.]]) \n",
    "\n",
    "pN = NewtonPolynomial(points=pts) # this creates an instance of the\n",
    "                                  # polynomial class\n",
    "pN.coeff # returns the coefficients array([0. , 2. , -4. , 2.66666667])\n",
    "print(pN)"
   ]
  },
  {
   "cell_type": "markdown",
   "metadata": {},
   "source": [
    "*Here we make two demonstrations, which are not presented in the book*"
   ]
  },
  {
   "cell_type": "code",
   "execution_count": 9,
   "metadata": {},
   "outputs": [
    {
     "name": "stdout",
     "output_type": "stream",
     "text": [
      "[2.+0.j 1.+0.j 0.+0.j]\n"
     ]
    }
   ],
   "source": [
    "print(pN.zeros())"
   ]
  },
  {
   "cell_type": "code",
   "execution_count": 10,
   "metadata": {},
   "outputs": [
    {
     "data": {
      "image/png": "[encoded data removed]",
      "text/plain": [
       "<Figure size 432x288 with 1 Axes>"
      ]
     },
     "metadata": {
      "needs_background": "light"
     },
     "output_type": "display_data"
    }
   ],
   "source": [
    "pN.plot()"
   ]
  },
  {
   "cell_type": "markdown",
   "metadata": {},
   "source": [
    "### 19.2 Spectral clustering"
   ]
  },
  {
   "cell_type": "markdown",
   "metadata": {},
   "source": [
    "We make first a general import as stated in Chapter 1 of the book:"
   ]
  },
  {
   "cell_type": "code",
   "execution_count": 11,
   "metadata": {},
   "outputs": [],
   "source": [
    "from numpy import *\n",
    "from matplotlib.pyplot import *"
   ]
  },
  {
   "cell_type": "code",
   "execution_count": 10,
   "metadata": {},
   "outputs": [],
   "source": [
    "import scipy.linalg as sl\n",
    "\n",
    "# create some data points\n",
    "n = 100\n",
    "x1 = 1.2 * random.randn(n, 2)\n",
    "x2 = 0.8 * random.randn(n, 2) + tile([7, 0],(n, 1))\n",
    "x = vstack((x1, x2))\n",
    "\n",
    "# pairwise distance matrix\n",
    "M = array([[ sqrt(sum((x[i] - x[j])**2)) \n",
    "             for i in range(2*n)]\n",
    "             for j in range(2 * n)])\n",
    " \n",
    "# create the Laplacian matrix\n",
    "D = diag(1 / sqrt( M.sum(axis = 0) ))\n",
    "L = identity(2 * n) - dot(D, dot(M, D))\n",
    "\n",
    "# compute eigenvectors of L\n",
    "S, V = sl.eig(L)\n",
    "# As L is symmetric the imaginary parts\n",
    "# in the eigenvalues are only due to negligible numerical errors S=S.real\n",
    "V=V.real"
   ]
  },
  {
   "cell_type": "code",
   "execution_count": 11,
   "metadata": {},
   "outputs": [
    {
     "ename": "NameError",
     "evalue": "name 'plot' is not defined",
     "output_type": "error",
     "traceback": [
      "\u001b[0;31m---------------------------------------------------------------------------\u001b[0m",
      "\u001b[0;31mNameError\u001b[0m                                 Traceback (most recent call last)",
      "\u001b[0;32m/tmp/ipykernel_1283/1636248519.py\u001b[0m in \u001b[0;36m<module>\u001b[0;34m\u001b[0m\n\u001b[1;32m      1\u001b[0m \u001b[0mlargest\u001b[0m\u001b[0;34m=\u001b[0m\u001b[0mabs\u001b[0m\u001b[0;34m(\u001b[0m\u001b[0mS\u001b[0m\u001b[0;34m)\u001b[0m\u001b[0;34m.\u001b[0m\u001b[0margmax\u001b[0m\u001b[0;34m(\u001b[0m\u001b[0;34m)\u001b[0m\u001b[0;34m\u001b[0m\u001b[0;34m\u001b[0m\u001b[0m\n\u001b[0;32m----> 2\u001b[0;31m \u001b[0mplot\u001b[0m\u001b[0;34m(\u001b[0m\u001b[0mV\u001b[0m\u001b[0;34m[\u001b[0m\u001b[0;34m:\u001b[0m\u001b[0;34m,\u001b[0m\u001b[0mlargest\u001b[0m\u001b[0;34m]\u001b[0m\u001b[0;34m)\u001b[0m\u001b[0;34m\u001b[0m\u001b[0;34m\u001b[0m\u001b[0m\n\u001b[0m",
      "\u001b[0;31mNameError\u001b[0m: name 'plot' is not defined"
     ]
    }
   ],
   "source": [
    "largest=abs(S).argmax()\n",
    "plot(V[:,largest])"
   ]
  },
  {
   "cell_type": "code",
   "execution_count": 6,
   "metadata": {},
   "outputs": [],
   "source": [
    "import scipy.linalg as sl\n",
    "import scipy.cluster.vq as sc\n",
    "# simple 4 class data\n",
    "x = random.rand(1000,2)\n",
    "ndx = ((x[:,0] < 0.4) | (x[:,0] > 0.6)) & \\\n",
    "                     ((x[:,1] < 0.4) | (x[:,1] > 0.6))\n",
    "x = x[ndx]\n",
    "n = x.shape[0]\n",
    "\n",
    "# pairwise distance matrix\n",
    "M = array([[ sqrt(sum((x[i]-x[j])**2)) for i in range(n) ]\n",
    "           for j in range(n)])\n",
    "\n",
    "# create the Laplacian matrix\n",
    "D = diag(1 / sqrt( M.sum(axis=0) ))\n",
    "L = identity(n) - dot(D, dot(M, D))\n",
    "\n",
    "# compute eigenvectors of L\n",
    "_,_,V = sl.svd(L)\n",
    "\n",
    "k = 4\n",
    "# take k first eigenvectors\n",
    "eigv = V[:k,:].T\n",
    "\n",
    "# k-means\n",
    "centroids,dist = sc.kmeans(eigv,k)\n",
    "clust_id = sc.vq(eigv,centroids)[0]"
   ]
  },
  {
   "cell_type": "code",
   "execution_count": 7,
   "metadata": {},
   "outputs": [],
   "source": [
    "U, S, V = sl.svd(L)"
   ]
  },
  {
   "cell_type": "code",
   "execution_count": 8,
   "metadata": {},
   "outputs": [],
   "source": [
    "_, _, V = sl.svd(L)"
   ]
  },
  {
   "cell_type": "code",
   "execution_count": 9,
   "metadata": {},
   "outputs": [
    {
     "ename": "NameError",
     "evalue": "name 'plot' is not defined",
     "output_type": "error",
     "traceback": [
      "\u001b[0;31m---------------------------------------------------------------------------\u001b[0m",
      "\u001b[0;31mNameError\u001b[0m                                 Traceback (most recent call last)",
      "\u001b[0;32m/tmp/ipykernel_1283/507401795.py\u001b[0m in \u001b[0;36m<module>\u001b[0;34m\u001b[0m\n\u001b[1;32m      1\u001b[0m \u001b[0;32mfor\u001b[0m \u001b[0mi\u001b[0m \u001b[0;32min\u001b[0m \u001b[0mrange\u001b[0m\u001b[0;34m(\u001b[0m\u001b[0mk\u001b[0m\u001b[0;34m)\u001b[0m\u001b[0;34m:\u001b[0m\u001b[0;34m\u001b[0m\u001b[0;34m\u001b[0m\u001b[0m\n\u001b[1;32m      2\u001b[0m     \u001b[0mndx\u001b[0m \u001b[0;34m=\u001b[0m \u001b[0mwhere\u001b[0m\u001b[0;34m(\u001b[0m\u001b[0mclust_id\u001b[0m \u001b[0;34m==\u001b[0m \u001b[0mi\u001b[0m\u001b[0;34m)\u001b[0m\u001b[0;34m[\u001b[0m\u001b[0;36m0\u001b[0m\u001b[0;34m]\u001b[0m\u001b[0;34m\u001b[0m\u001b[0;34m\u001b[0m\u001b[0m\n\u001b[0;32m----> 3\u001b[0;31m     \u001b[0mplot\u001b[0m\u001b[0;34m(\u001b[0m\u001b[0mx\u001b[0m\u001b[0;34m[\u001b[0m\u001b[0mndx\u001b[0m\u001b[0;34m,\u001b[0m \u001b[0;36m0\u001b[0m\u001b[0;34m]\u001b[0m\u001b[0;34m,\u001b[0m \u001b[0mx\u001b[0m\u001b[0;34m[\u001b[0m\u001b[0mndx\u001b[0m\u001b[0;34m,\u001b[0m \u001b[0;36m1\u001b[0m\u001b[0;34m]\u001b[0m\u001b[0;34m,\u001b[0m\u001b[0;34m'o'\u001b[0m\u001b[0;34m)\u001b[0m\u001b[0;34m\u001b[0m\u001b[0;34m\u001b[0m\u001b[0m\n\u001b[0m\u001b[1;32m      4\u001b[0m \u001b[0maxis\u001b[0m\u001b[0;34m(\u001b[0m\u001b[0;34m'equal'\u001b[0m\u001b[0;34m)\u001b[0m\u001b[0;34m\u001b[0m\u001b[0;34m\u001b[0m\u001b[0m\n",
      "\u001b[0;31mNameError\u001b[0m: name 'plot' is not defined"
     ]
    }
   ],
   "source": [
    "for i in range(k):\n",
    "    ndx = where(clust_id == i)[0]\n",
    "    plot(x[ndx, 0], x[ndx, 1],'o')\n",
    "axis('equal')"
   ]
  },
  {
   "cell_type": "markdown",
   "metadata": {},
   "source": [
    "Note, the plot above needs not to be identical to that presented in the book as it is generated from random data."
   ]
  },
  {
   "cell_type": "markdown",
   "metadata": {},
   "source": [
    "### 19.3 Solving initial value problems"
   ]
  },
  {
   "cell_type": "code",
   "execution_count": 18,
   "metadata": {},
   "outputs": [],
   "source": [
    "class IV_Problem:\n",
    "    \"\"\"\n",
    "    Initial value problem (IVP) class\n",
    "    \"\"\"\n",
    "    def __init__(self, rhs, y0, interval, name='IVP'):\n",
    "        \"\"\"\n",
    "        rhs 'right hand side' function of the ordinary differential\n",
    "                                                   equation f(t,y)\n",
    "        y0 array with initial values\n",
    "        interval start and end value of the interval of independent\n",
    "        variables often initial and end time\n",
    "        name descriptive name of the problem\n",
    "        \"\"\"\n",
    "        self.rhs = rhs\n",
    "        self.y0 = y0\n",
    "        self.t0, self.tend = interval\n",
    "        self.name = name"
   ]
  },
  {
   "cell_type": "code",
   "execution_count": 19,
   "metadata": {},
   "outputs": [],
   "source": [
    "def rhs(t,y):\n",
    "    g = 9.81\n",
    "    l = 1.\n",
    "    yprime = array([y[1], g / l * sin(y[0])])\n",
    "    return yprime\n",
    " \n",
    "pendulum = IV_Problem(rhs, array([pi / 2, 0.]), [0., 10.] ,\n",
    "                      'mathem. pendulum')"
   ]
  },
  {
   "cell_type": "code",
   "execution_count": 20,
   "metadata": {},
   "outputs": [],
   "source": [
    "class IVPsolver:\n",
    "    \"\"\"\n",
    "    IVP solver class for explicit one-step discretization methods\n",
    "    with constant step size\n",
    "    \"\"\"\n",
    "    def __init__(self, problem, discretization, stepsize):\n",
    "        self.problem = problem\n",
    "        self.discretization = discretization\n",
    "        self.stepsize = stepsize\n",
    "    def one_stepper(self):\n",
    "        yield self.problem.t0, self.problem.y0\n",
    "        ys = self.problem.y0\n",
    "        ts = self.problem.t0\n",
    "        while ts <= self.problem.tend:\n",
    "            ts, ys = self.discretization(self.problem.rhs, ts, ys,\n",
    "                                         self.stepsize)\n",
    "            yield ts, ys\n",
    "    def solve(self):\n",
    "        return list(self.one_stepper())"
   ]
  },
  {
   "cell_type": "code",
   "execution_count": 21,
   "metadata": {},
   "outputs": [],
   "source": [
    "def expliciteuler(rhs, ts, ys, h):\n",
    "        return ts + h, ys + h * rhs(ts, ys)\n",
    "def rungekutta4(rhs, ts, ys, h):\n",
    "        k1 = h * rhs(ts, ys)\n",
    "        k2 = h * rhs(ts + h/2., ys + k1/2.) \n",
    "        k3 = h * rhs(ts + h/2., ys + k2/2.)\n",
    "        k4 = h * rhs(ts + h, ys + k3)\n",
    "        return ts + h, ys + (k1 + 2*k2 + 2*k3 + k4)/6."
   ]
  },
  {
   "cell_type": "code",
   "execution_count": 22,
   "metadata": {},
   "outputs": [],
   "source": [
    "pendulum_Euler = IVPsolver(pendulum, expliciteuler, 0.001) \n",
    "pendulum_RK4 = IVPsolver(pendulum, rungekutta4, 0.001)"
   ]
  },
  {
   "cell_type": "code",
   "execution_count": 23,
   "metadata": {},
   "outputs": [
    {
     "data": {
      "text/plain": [
       "(<matplotlib.axes._subplots.AxesSubplot at 0x7f3a2b2d26d0>,\n",
       " [<matplotlib.lines.Line2D at 0x7f3a2b348cd0>,\n",
       "  <matplotlib.lines.Line2D at 0x7f3a2b3550d0>],\n",
       " Text(0.5, 1.0, 'Difference between both methods'),\n",
       " Text(0.5, 0, 'Time'),\n",
       " Text(0, 0.5, 'Angle and angular velocity'))"
      ]
     },
     "execution_count": 23,
     "metadata": {},
     "output_type": "execute_result"
    },
    {
     "data": {
      "image/png": "[encoded data removed]",
      "text/plain": [
       "<Figure size 432x288 with 2 Axes>"
      ]
     },
     "metadata": {
      "needs_background": "light"
     },
     "output_type": "display_data"
    }
   ],
   "source": [
    "sol_Euler = pendulum_Euler.solve()\n",
    "sol_RK4 = pendulum_RK4.solve()\n",
    "tEuler, yEuler = zip(*sol_Euler)\n",
    "tRK4, yRK4 = zip(*sol_RK4)\n",
    "subplot(1,2,1), plot(tEuler,yEuler),\\\n",
    "        title('Pendulum result with Explicit Euler'),\\\n",
    "        xlabel('Time'), ylabel('Angle and angular velocity')\n",
    "subplot(1,2,2), plot(tRK4,abs(array(yRK4)-array(yEuler))),\\\n",
    "        title('Difference between both methods'),\\\n",
    "        xlabel('Time'), ylabel('Angle and angular velocity')"
   ]
  }
 ],
 "metadata": {
  "kernelspec": {
   "display_name": "Python 3",
   "language": "python",
   "name": "python3"
  },
  "language_info": {
   "codemirror_mode": {
    "name": "ipython",
    "version": 3
   },
   "file_extension": ".py",
   "mimetype": "text/x-python",
   "name": "python",
   "nbconvert_exporter": "python",
   "pygments_lexer": "ipython3",
   "version": "3.9.7"
  }
 },
 "nbformat": 4,
 "nbformat_minor": 4
}
