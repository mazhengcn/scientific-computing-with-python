{
 "cells": [
  {
   "cell_type": "markdown",
   "metadata": {},
   "source": [
    "# Scientific Computing with Python (Second Edition)\n",
    "\n",
    "# Chapter 08\n",
    "\n",
    "*We start by importing all from Numpy. As explained in Chapter 01 the examples are written assuming this import is initially done.*"
   ]
  },
  {
   "cell_type": "code",
   "execution_count": 1,
   "metadata": {},
   "outputs": [],
   "source": [
    "from numpy import *"
   ]
  },
  {
   "cell_type": "markdown",
   "metadata": {},
   "source": [
    "## 8.1 Introduction to classes\n",
    "### 8.1.1 A guiding example: Rational numbers\n",
    "*no code*\n",
    "### 8.1.2 Defining a class and making an instance"
   ]
  },
  {
   "cell_type": "code",
   "execution_count": 2,
   "metadata": {},
   "outputs": [],
   "source": [
    "class RationalNumber: \n",
    "      pass"
   ]
  },
  {
   "cell_type": "code",
   "execution_count": 3,
   "metadata": {},
   "outputs": [],
   "source": [
    "r = RationalNumber()"
   ]
  },
  {
   "cell_type": "code",
   "execution_count": 4,
   "metadata": {},
   "outputs": [
    {
     "data": {
      "text/plain": [
       "__main__.RationalNumber"
      ]
     },
     "execution_count": 4,
     "metadata": {},
     "output_type": "execute_result"
    }
   ],
   "source": [
    "type(r)"
   ]
  },
  {
   "cell_type": "code",
   "execution_count": 5,
   "metadata": {},
   "outputs": [
    {
     "name": "stdout",
     "output_type": "stream",
     "text": [
      "Indeed, it belongs to the class RationalNumber\n"
     ]
    }
   ],
   "source": [
    "if isinstance(r, RationalNumber):\n",
    "    print('Indeed, it belongs to the class RationalNumber')  "
   ]
  },
  {
   "cell_type": "markdown",
   "metadata": {},
   "source": [
    "### 8.1.3 The `__init__` method"
   ]
  },
  {
   "cell_type": "code",
   "execution_count": 6,
   "metadata": {},
   "outputs": [],
   "source": [
    "class RationalNumber:\n",
    "    def __init__(self, numerator, denominator):\n",
    "        self.numerator = numerator\n",
    "        self.denominator = denominator"
   ]
  },
  {
   "cell_type": "code",
   "execution_count": 7,
   "metadata": {},
   "outputs": [
    {
     "data": {
      "text/plain": [
       "10"
      ]
     },
     "execution_count": 7,
     "metadata": {},
     "output_type": "execute_result"
    }
   ],
   "source": [
    "q = RationalNumber(10, 20)    # Defines a new object\n",
    "q.numerator                   # returns 10"
   ]
  },
  {
   "cell_type": "code",
   "execution_count": 8,
   "metadata": {},
   "outputs": [
    {
     "data": {
      "text/plain": [
       "20"
      ]
     },
     "execution_count": 8,
     "metadata": {},
     "output_type": "execute_result"
    }
   ],
   "source": [
    "q.denominator                 # returns 20"
   ]
  },
  {
   "cell_type": "code",
   "execution_count": 9,
   "metadata": {},
   "outputs": [
    {
     "data": {
      "text/plain": [
       "4.0"
      ]
     },
     "execution_count": 9,
     "metadata": {},
     "output_type": "execute_result"
    }
   ],
   "source": [
    "q = RationalNumber(3, 5) # instantiation\n",
    "q.numerator              # attribute access\n",
    "q.denominator\n",
    "\n",
    "a = array([1, 2])        # instantiation\n",
    "a.shape\n",
    "\n",
    "z = 5 + 4j               # instantiation\n",
    "z.imag"
   ]
  },
  {
   "cell_type": "code",
   "execution_count": 10,
   "metadata": {},
   "outputs": [],
   "source": [
    "q = RationalNumber(3, 5) \n",
    "r = RationalNumber(7, 3)\n",
    "q.numerator = 17\n",
    "del r.denominator"
   ]
  },
  {
   "cell_type": "code",
   "execution_count": 11,
   "metadata": {},
   "outputs": [],
   "source": [
    "class RationalNumber:\n",
    "    def __init__(self, numerator, denominator):\n",
    "        self.numerator = numerator\n",
    "        self.denominator = denominator\n",
    "    def convert2float(self):\n",
    "        return float(self.numerator) / float(self.denominator)    "
   ]
  },
  {
   "cell_type": "code",
   "execution_count": 12,
   "metadata": {},
   "outputs": [
    {
     "data": {
      "text/plain": [
       "0.5"
      ]
     },
     "execution_count": 12,
     "metadata": {},
     "output_type": "execute_result"
    }
   ],
   "source": [
    "q = RationalNumber(10, 20)    # Defines a new object\n",
    "q.convert2float() # returns 0.5  "
   ]
  },
  {
   "cell_type": "code",
   "execution_count": 13,
   "metadata": {},
   "outputs": [
    {
     "data": {
      "text/plain": [
       "0.5"
      ]
     },
     "execution_count": 13,
     "metadata": {},
     "output_type": "execute_result"
    }
   ],
   "source": [
    "RationalNumber.convert2float(q)"
   ]
  },
  {
   "cell_type": "markdown",
   "metadata": {},
   "source": [
    "### 8.1.5 Special methods"
   ]
  },
  {
   "cell_type": "code",
   "execution_count": 14,
   "metadata": {},
   "outputs": [],
   "source": [
    "class RationalNumber:\n",
    "    def __init__(self, numerator, denominator):\n",
    "        self.numerator = numerator\n",
    "        self.denominator = denominator\n",
    "    def convert2float(self):\n",
    "        return float(self.numerator) / float(self.denominator)  \n",
    "    def __repr__(self): \n",
    "        return f'{self.numerator} / {self.denominator}'"
   ]
  },
  {
   "cell_type": "code",
   "execution_count": 15,
   "metadata": {},
   "outputs": [
    {
     "name": "stdout",
     "output_type": "stream",
     "text": [
      "10 / 20\n"
     ]
    }
   ],
   "source": [
    "q = RationalNumber(10, 20)    # Defines a new object\n",
    "print(q)"
   ]
  },
  {
   "cell_type": "code",
   "execution_count": 16,
   "metadata": {},
   "outputs": [],
   "source": [
    "class RationalNumber:\n",
    "    def __init__(self, numerator, denominator):\n",
    "        self.numerator = numerator\n",
    "        self.denominator = denominator\n",
    "    def convert2float(self):\n",
    "        return float(self.numerator) / float(self.denominator)  \n",
    "    def __repr__(self): \n",
    "        return f'{self.numerator} / {self.denominator}'\n",
    "    def add(self, other): \n",
    "        p1, q1 = self.numerator, self.denominator \n",
    "        if isinstance(other, int):        \n",
    "            p2, q2 = other, 1 \n",
    "        else: \n",
    "            p2, q2 = other.numerator, other.denominator \n",
    "        return RationalNumber(p1 * q2 + p2 * q1, q1 * q2)"
   ]
  },
  {
   "cell_type": "code",
   "execution_count": 17,
   "metadata": {},
   "outputs": [
    {
     "data": {
      "text/plain": [
       "5 / 6"
      ]
     },
     "execution_count": 17,
     "metadata": {},
     "output_type": "execute_result"
    }
   ],
   "source": [
    "q = RationalNumber(1, 2)\n",
    "p = RationalNumber(1, 3)\n",
    "q.add(p)   # returns the RationalNumber for 5/6"
   ]
  },
  {
   "cell_type": "markdown",
   "metadata": {},
   "source": [
    "*We add now to the class all special methods discussed in the book directly:*"
   ]
  },
  {
   "cell_type": "code",
   "execution_count": 18,
   "metadata": {},
   "outputs": [],
   "source": [
    "class RationalNumber:\n",
    "    def __init__(self, numerator, denominator):\n",
    "        self.numerator = numerator\n",
    "        self.denominator = denominator\n",
    "    def convert2float(self):\n",
    "        return float(self.numerator) / float(self.denominator)  \n",
    "    def __repr__(self): \n",
    "        return f'{self.numerator} / {self.denominator}'\n",
    "    def __add__(self, other): \n",
    "        p1, q1 = self.numerator, self.denominator \n",
    "        if isinstance(other, int):        \n",
    "            p2, q2 = other, 1 \n",
    "        else: \n",
    "            p2, q2 = other.numerator, other.denominator \n",
    "        return RationalNumber(p1 * q2 + p2 * q1, q1 * q2)\n",
    "    def __eq__(self, other):\n",
    "        return self.denominator * other.numerator == \\\n",
    "            self.numerator * other.denominator\n",
    "    def __radd__(self, other):\n",
    "        return self + other"
   ]
  },
  {
   "cell_type": "code",
   "execution_count": 19,
   "metadata": {},
   "outputs": [
    {
     "data": {
      "text/plain": [
       "True"
      ]
     },
     "execution_count": 19,
     "metadata": {},
     "output_type": "execute_result"
    }
   ],
   "source": [
    "p = RationalNumber(1, 2) # instantiation\n",
    "q = RationalNumber(2, 4) # instantiation\n",
    "p == q # True"
   ]
  },
  {
   "cell_type": "code",
   "execution_count": 20,
   "metadata": {},
   "outputs": [
    {
     "data": {
      "text/plain": [
       "5 / 6"
      ]
     },
     "execution_count": 20,
     "metadata": {},
     "output_type": "execute_result"
    }
   ],
   "source": [
    "q = RationalNumber(1, 2)\n",
    "p = RationalNumber(1, 3)\n",
    "q + p # RationalNumber(5, 6)"
   ]
  },
  {
   "cell_type": "code",
   "execution_count": 21,
   "metadata": {},
   "outputs": [
    {
     "data": {
      "text/plain": [
       "16 / 3"
      ]
     },
     "execution_count": 21,
     "metadata": {},
     "output_type": "execute_result"
    }
   ],
   "source": [
    "p+5"
   ]
  },
  {
   "cell_type": "code",
   "execution_count": 22,
   "metadata": {},
   "outputs": [
    {
     "data": {
      "text/plain": [
       "16 / 3"
      ]
     },
     "execution_count": 22,
     "metadata": {},
     "output_type": "execute_result"
    }
   ],
   "source": [
    "5+p"
   ]
  },
  {
   "cell_type": "code",
   "execution_count": 23,
   "metadata": {},
   "outputs": [],
   "source": [
    "import itertools\n",
    "\n",
    "class  Recursion3Term:\n",
    "    def __init__(self, a0, a1, u0, u1):\n",
    "        self.coeff = [a1, a0]\n",
    "        self.initial = [u1, u0]\n",
    "    def __iter__(self):\n",
    "        u1, u0 = self.initial\n",
    "        yield u0  # (see also Iterators section in Chapter 9) \n",
    "        yield u1\n",
    "        a1, a0 = self.coeff\n",
    "        while True :\n",
    "            u1, u0 = a1 * u1 + a0 * u0, u1\n",
    "            yield u1\n",
    "    def __getitem__(self, k):\n",
    "        return list(itertools.islice(self, k, k + 1))[0]"
   ]
  },
  {
   "cell_type": "code",
   "execution_count": 24,
   "metadata": {},
   "outputs": [
    {
     "name": "stdout",
     "output_type": "stream",
     "text": [
      "0.194167\n"
     ]
    }
   ],
   "source": [
    "r3 = Recursion3Term(-0.35, 1.2, 1, 1)\n",
    "for i, r in enumerate(r3):\n",
    "    if i == 7:\n",
    "        print(r)  # returns 0.194167\n",
    "        break"
   ]
  },
  {
   "cell_type": "code",
   "execution_count": 25,
   "metadata": {},
   "outputs": [
    {
     "data": {
      "text/plain": [
       "0.194167"
      ]
     },
     "execution_count": 25,
     "metadata": {},
     "output_type": "execute_result"
    }
   ],
   "source": [
    "r3[7] # returns 0.194167"
   ]
  },
  {
   "cell_type": "markdown",
   "metadata": {},
   "source": [
    "## 8.2 Attributes that depend on each other"
   ]
  },
  {
   "cell_type": "code",
   "execution_count": 26,
   "metadata": {},
   "outputs": [],
   "source": [
    "class Triangle:\n",
    "    def __init__(self,  A, B, C):\n",
    "        self.A = array(A)\n",
    "        self.B = array(B)\n",
    "        self.C = array(C)\n",
    "        self.a = self.C - self.B\n",
    "        self.b = self.C - self.A\n",
    "        self.c = self.B - self.A\n",
    "    def area(self):\n",
    "        return abs(cross(self.b, self.c)) / 2"
   ]
  },
  {
   "cell_type": "code",
   "execution_count": 27,
   "metadata": {},
   "outputs": [],
   "source": [
    "tr = Triangle([0., 0.], [1., 0.], [0., 1.])"
   ]
  },
  {
   "cell_type": "code",
   "execution_count": 28,
   "metadata": {},
   "outputs": [
    {
     "data": {
      "text/plain": [
       "0.5"
      ]
     },
     "execution_count": 28,
     "metadata": {},
     "output_type": "execute_result"
    }
   ],
   "source": [
    "tr.area() # returns 0.5"
   ]
  },
  {
   "cell_type": "code",
   "execution_count": 29,
   "metadata": {},
   "outputs": [
    {
     "data": {
      "text/plain": [
       "0.5"
      ]
     },
     "execution_count": 29,
     "metadata": {},
     "output_type": "execute_result"
    }
   ],
   "source": [
    "tr.B = [12., 0.]\n",
    "tr.area() # still returns 0.5, should be 6 instead."
   ]
  },
  {
   "cell_type": "markdown",
   "metadata": {},
   "source": [
    "### 8.2.1 The function `property`"
   ]
  },
  {
   "cell_type": "code",
   "execution_count": 30,
   "metadata": {},
   "outputs": [],
   "source": [
    "class Triangle:\n",
    "    def __init__(self, A, B, C):\n",
    "        self._A = array(A)\n",
    "        self._B = array(B)\n",
    "        self._C = array(C)\n",
    "        self._a = self._C - self._B\n",
    "        self._b = self._C - self._A\n",
    "        self._c = self._B - self._A\n",
    "    def area(self):\n",
    "        return abs(cross(self._c, self._b)) / 2.\n",
    "    def set_B(self, B):\n",
    "        self._B = B\n",
    "        self._a = self._C - self._B\n",
    "        self._c = self._B - self._A\n",
    "    def get_B(self):\n",
    "        return self._B\n",
    "    def del_Pt(self):\n",
    "        raise Exception('A triangle point cannot be deleted')\n",
    "    B = property(fget = get_B, fset = set_B, fdel = del_Pt)"
   ]
  },
  {
   "cell_type": "code",
   "execution_count": 31,
   "metadata": {},
   "outputs": [
    {
     "data": {
      "text/plain": [
       "6.0"
      ]
     },
     "execution_count": 31,
     "metadata": {},
     "output_type": "execute_result"
    }
   ],
   "source": [
    "tr = Triangle([0., 0.], [1., 0.], [0., 1.])\n",
    "tr.B = [12., 0.]\n",
    "tr.area() # returns 6.0"
   ]
  },
  {
   "cell_type": "markdown",
   "metadata": {},
   "source": [
    "## 8.3 Bound and unbound methods"
   ]
  },
  {
   "cell_type": "code",
   "execution_count": 32,
   "metadata": {},
   "outputs": [],
   "source": [
    "class A:\n",
    "    def func(self,arg):\n",
    "        pass"
   ]
  },
  {
   "cell_type": "code",
   "execution_count": 33,
   "metadata": {},
   "outputs": [
    {
     "data": {
      "text/plain": [
       "<bound method A.func of <__main__.A object at 0x7f7848cf7c50>>"
      ]
     },
     "execution_count": 33,
     "metadata": {},
     "output_type": "execute_result"
    }
   ],
   "source": [
    "A.func  # <unbound method A.func>\n",
    "instA = A()  # we create an instance\n",
    "instA.func  #  <bound method A.func of ... >"
   ]
  },
  {
   "cell_type": "markdown",
   "metadata": {},
   "source": [
    "## 8.4 Class attributes and class methods\n",
    "### 8.4.1 Class attributes"
   ]
  },
  {
   "cell_type": "code",
   "execution_count": 34,
   "metadata": {},
   "outputs": [],
   "source": [
    "class Newton:\n",
    "    tol = 1e-8 # this is a class attribute\n",
    "    def __init__(self,f):\n",
    "        self.f = f # this is not a class attribute\n",
    "    ..."
   ]
  },
  {
   "cell_type": "code",
   "execution_count": 35,
   "metadata": {},
   "outputs": [],
   "source": [
    "f = lambda x: x**2\n",
    "g = lambda x: 3*x\n",
    "N1 = Newton(f)\n",
    "N2 = Newton(g)"
   ]
  },
  {
   "cell_type": "code",
   "execution_count": 36,
   "metadata": {},
   "outputs": [
    {
     "data": {
      "text/plain": [
       "1e-08"
      ]
     },
     "execution_count": 36,
     "metadata": {},
     "output_type": "execute_result"
    }
   ],
   "source": [
    "N1.tol # 1e-8\n",
    "N2.tol # 1e-8"
   ]
  },
  {
   "cell_type": "code",
   "execution_count": 37,
   "metadata": {},
   "outputs": [
    {
     "data": {
      "text/plain": [
       "1e-10"
      ]
     },
     "execution_count": 37,
     "metadata": {},
     "output_type": "execute_result"
    }
   ],
   "source": [
    "Newton.tol = 1e-10\n",
    "N1.tol # 1e-10\n",
    "N2.tol # 1e-10"
   ]
  },
  {
   "cell_type": "code",
   "execution_count": 38,
   "metadata": {},
   "outputs": [
    {
     "data": {
      "text/plain": [
       "1e-10"
      ]
     },
     "execution_count": 38,
     "metadata": {},
     "output_type": "execute_result"
    }
   ],
   "source": [
    "N2.tol = 1.e-4\n",
    "N1.tol  # still 1.e-10"
   ]
  },
  {
   "cell_type": "code",
   "execution_count": 39,
   "metadata": {},
   "outputs": [
    {
     "data": {
      "text/plain": [
       "0.0001"
      ]
     },
     "execution_count": 39,
     "metadata": {},
     "output_type": "execute_result"
    }
   ],
   "source": [
    "Newton.tol = 1e-5 \n",
    "# now all instances of the Newton classes have tol=1e-5\n",
    "N1.tol # 1.e-5\n",
    "N2.tol # 1.e-4 \n",
    "# N2.tol is now detached and therefore not altered"
   ]
  },
  {
   "cell_type": "markdown",
   "metadata": {},
   "source": [
    "### 8.4.2 Class methods"
   ]
  },
  {
   "cell_type": "code",
   "execution_count": 40,
   "metadata": {},
   "outputs": [],
   "source": [
    "class Polynomial:\n",
    "    def __init__(self, coeff):\n",
    "        self.coeff = array(coeff)\n",
    "    @classmethod\n",
    "    def by_points(cls, x, y):\n",
    "        degree = x.shape[0] - 1\n",
    "        coeff = polyfit(x, y, degree)\n",
    "        return cls(coeff) \n",
    "    def __eq__(self, other):\n",
    "        return allclose(self.coeff, other.coeff)"
   ]
  },
  {
   "cell_type": "code",
   "execution_count": 41,
   "metadata": {},
   "outputs": [
    {
     "name": "stdout",
     "output_type": "stream",
     "text": [
      "True\n"
     ]
    }
   ],
   "source": [
    "p1 = Polynomial.by_points(array([0., 1.]), array([0., 1.]))\n",
    "p2 = Polynomial([1., 0.])\n",
    "\n",
    "print(p1 == p2)  # prints True"
   ]
  },
  {
   "cell_type": "markdown",
   "metadata": {},
   "source": [
    "## 8.5 Subclasses and inheritance\n"
   ]
  },
  {
   "cell_type": "code",
   "execution_count": 42,
   "metadata": {},
   "outputs": [],
   "source": [
    "import matplotlib.pyplot as mp\n",
    "\n",
    "class OneStepMethod:\n",
    "    def __init__(self, f, x0, interval, N):\n",
    "        self.f = f\n",
    "        self.x0 = x0\n",
    "        self.interval = [t0, te] = interval\n",
    "        self.grid = linspace(t0, te, N)\n",
    "        self.h = (te - t0) / N\n",
    "\n",
    "    def generate(self):\n",
    "        ti, ui = self.grid[0], self.x0\n",
    "        yield ti, ui\n",
    "        for t in self.grid[1:]:\n",
    "            ui = ui + self.h * self.step(self.f, ui, ti)\n",
    "            ti = t\n",
    "            yield ti, ui\n",
    "\n",
    "    def solve(self):\n",
    "        self.solution = array(list(self.generate()))\n",
    "\n",
    "    def plot(self):\n",
    "        mp.plot(self.solution[:, 0], self.solution[:, 1])\n",
    "\n",
    "    def step(self, f, u, t):\n",
    "        raise NotImplementedError()"
   ]
  },
  {
   "cell_type": "code",
   "execution_count": 43,
   "metadata": {},
   "outputs": [],
   "source": [
    "class ExplicitEuler(OneStepMethod):\n",
    "    def step(self, f, u, t):\n",
    "        return f(u, t)\n",
    "\n",
    "class MidPointRule(OneStepMethod):\n",
    "    def step(self, f, u, t):\n",
    "        return f(u + self.h / 2 * f(u, t), t + self.h / 2)"
   ]
  },
  {
   "cell_type": "code",
   "execution_count": 44,
   "metadata": {},
   "outputs": [
    {
     "data": {
      "image/png": "[encoded data removed]",
      "text/plain": [
       "<Figure size 432x288 with 1 Axes>"
      ]
     },
     "metadata": {
      "needs_background": "light"
     },
     "output_type": "display_data"
    }
   ],
   "source": [
    "def f(x, t):\n",
    "    return -0.5 * x\n",
    "\n",
    "euler = ExplicitEuler(f, 15., [0., 10.], 20)\n",
    "euler.solve()\n",
    "euler.plot()\n",
    "midpoint = MidPointRule(f, 15., [0., 10.], 20)\n",
    "\n",
    "midpoint.solve()\n",
    "midpoint.plot()"
   ]
  },
  {
   "cell_type": "code",
   "execution_count": 45,
   "metadata": {},
   "outputs": [],
   "source": [
    "argument_list = [f, 15., [0., 10.], 20]\n",
    "euler = ExplicitEuler(*argument_list)\n",
    "midpoint = MidPointRule(*argument_list)"
   ]
  },
  {
   "cell_type": "code",
   "execution_count": 46,
   "metadata": {},
   "outputs": [
    {
     "data": {
      "image/png": "[encoded data removed]",
      "text/plain": [
       "<Figure size 432x288 with 1 Axes>"
      ]
     },
     "metadata": {
      "needs_background": "light"
     },
     "output_type": "display_data"
    }
   ],
   "source": [
    "euler = ExplicitEuler(f, 15., [0., 10.], 20)\n",
    "euler.solve()\n",
    "euler.plot()\n",
    "midpoint = MidPointRule(f, 15., [0., 10.], 20)\n",
    "\n",
    "midpoint.solve()\n",
    "midpoint.plot()"
   ]
  },
  {
   "cell_type": "code",
   "execution_count": 47,
   "metadata": {},
   "outputs": [],
   "source": [
    "class ExplicitEuler(OneStepMethod):\n",
    "    def __init__(self,*args, **kwargs):\n",
    "        self.name='Explicit Euler Method'\n",
    "        super(ExplicitEuler, self).__init__(*args,**kwargs)\n",
    "    def step(self, f, u, t):\n",
    "        return f(u, t)"
   ]
  },
  {
   "cell_type": "markdown",
   "metadata": {},
   "source": [
    "## 8.6 Encapsulation"
   ]
  },
  {
   "cell_type": "code",
   "execution_count": 48,
   "metadata": {},
   "outputs": [],
   "source": [
    "class Function:\n",
    "    def __init__(self, f):\n",
    "        self.f = f\n",
    "    def __call__(self, x):\n",
    "        return self.f(x)\n",
    "    def __add__(self, g):\n",
    "        def sum(x):\n",
    "            return self(x) + g(x)\n",
    "        return type(self)(sum) \n",
    "    def __mul__(self, g): \n",
    "        def prod(x):\n",
    "            return self.f(x) * g(x)\n",
    "        return type(self)(prod)\n",
    "    def __radd__(self, g):\n",
    "        return self + g\n",
    "    def __rmul__(self, g):\n",
    "        return self * g"
   ]
  },
  {
   "cell_type": "code",
   "execution_count": 49,
   "metadata": {},
   "outputs": [],
   "source": [
    "T5 = Function(lambda x: cos(5 * arccos(x)))\n",
    "T6 = Function(lambda x: cos(6 * arccos(x)))"
   ]
  },
  {
   "cell_type": "code",
   "execution_count": 50,
   "metadata": {},
   "outputs": [
    {
     "data": {
      "text/plain": [
       "6.510878470473995e-17"
      ]
     },
     "execution_count": 50,
     "metadata": {},
     "output_type": "execute_result"
    }
   ],
   "source": [
    "import scipy.integrate as sci\n",
    "\n",
    "weight = Function(lambda x: 1 / sqrt((1 - x ** 2)))\n",
    "[integral, errorestimate] = \\\n",
    "        sci.quad(weight * T5 * T6, -1, 1) # (6.510878470473995e-17, 1.3237018925525037e-14)\n",
    "integral"
   ]
  },
  {
   "cell_type": "markdown",
   "metadata": {},
   "source": [
    "## 8.7 Classes as decorators"
   ]
  },
  {
   "cell_type": "code",
   "execution_count": 51,
   "metadata": {},
   "outputs": [],
   "source": [
    "class echo:\n",
    "    text = 'Input parameters of {name}\\n'+\\\n",
    "        'Positional parameters {args}\\n'+\\\n",
    "        'Keyword parameters {kwargs}\\n'\n",
    "    def __init__(self, f):\n",
    "        self.f = f\n",
    "    def __call__(self, *args, **kwargs):\n",
    "        print(self.text.format(name = self.f.__name__,\n",
    "              args = args, kwargs = kwargs))\n",
    "        return self.f(*args, **kwargs)"
   ]
  },
  {
   "cell_type": "code",
   "execution_count": 52,
   "metadata": {},
   "outputs": [],
   "source": [
    "@echo\n",
    "def line(m, b, x):\n",
    "    return m * x + b"
   ]
  },
  {
   "cell_type": "code",
   "execution_count": 53,
   "metadata": {},
   "outputs": [
    {
     "name": "stdout",
     "output_type": "stream",
     "text": [
      "Input parameters of line\n",
      "Positional parameters (2.0, 5.0, 3.0)\n",
      "Keyword parameters {}\n",
      "\n"
     ]
    },
    {
     "data": {
      "text/plain": [
       "11.0"
      ]
     },
     "execution_count": 53,
     "metadata": {},
     "output_type": "execute_result"
    }
   ],
   "source": [
    "line(2., 5., 3.)"
   ]
  },
  {
   "cell_type": "code",
   "execution_count": 54,
   "metadata": {},
   "outputs": [
    {
     "name": "stdout",
     "output_type": "stream",
     "text": [
      "Input parameters of line\n",
      "Positional parameters (2.0, 5.0)\n",
      "Keyword parameters {'x': 3.0}\n",
      "\n"
     ]
    },
    {
     "data": {
      "text/plain": [
       "11.0"
      ]
     },
     "execution_count": 54,
     "metadata": {},
     "output_type": "execute_result"
    }
   ],
   "source": [
    "line(2., 5., x=3.)"
   ]
  },
  {
   "cell_type": "code",
   "execution_count": 55,
   "metadata": {},
   "outputs": [],
   "source": [
    "class CountCalls:\n",
    "    \"\"\"\n",
    "    Decorator that keeps track of the number of times \n",
    "    a function is called.\n",
    "    \"\"\"\n",
    "    instances = {} \n",
    "    def __init__(self, f):\n",
    "        self.f = f\n",
    "        self.numcalls = 0\n",
    "        self.instances[f] = self\n",
    "    def __call__(self, *args, **kwargs):\n",
    "        self.numcalls += 1\n",
    "        return self.f(*args, **kwargs)\n",
    "    @classmethod\n",
    "    def counts(cls):\n",
    "        \"\"\"\n",
    "        Return a dict of {function: # of calls} for all \n",
    "        registered functions.\n",
    "        \"\"\"\n",
    "        return dict([(f.__name__, cls.instances[f].numcalls) \n",
    "                                    for f in cls.instances])"
   ]
  },
  {
   "cell_type": "code",
   "execution_count": 56,
   "metadata": {},
   "outputs": [
    {
     "data": {
      "text/plain": [
       "{'line': 1, 'parabola': 1}"
      ]
     },
     "execution_count": 56,
     "metadata": {},
     "output_type": "execute_result"
    }
   ],
   "source": [
    "@CountCalls\n",
    "def line(m, b, x):\n",
    "    return m * x + b\n",
    "@CountCalls \n",
    "def parabola(a, b, c, x):\n",
    "    return a * x ** 2 + b * x + c\n",
    "line(3., -1., 1.)\n",
    "parabola(4., 5., -1., 2.)\n",
    " \n",
    "CountCalls.counts() # returns {'line': 1, 'parabola': 1}"
   ]
  },
  {
   "cell_type": "code",
   "execution_count": 57,
   "metadata": {},
   "outputs": [
    {
     "data": {
      "text/plain": [
       "1"
      ]
     },
     "execution_count": 57,
     "metadata": {},
     "output_type": "execute_result"
    }
   ],
   "source": [
    "parabola.numcalls # returns 1"
   ]
  }
 ],
 "metadata": {
  "kernelspec": {
   "display_name": "Python 3 (ipykernel)",
   "language": "python",
   "name": "python3"
  },
  "language_info": {
   "codemirror_mode": {
    "name": "ipython",
    "version": 3
   },
   "file_extension": ".py",
   "mimetype": "text/x-python",
   "name": "python",
   "nbconvert_exporter": "python",
   "pygments_lexer": "ipython3",
   "version": "3.10.4"
  }
 },
 "nbformat": 4,
 "nbformat_minor": 4
}
