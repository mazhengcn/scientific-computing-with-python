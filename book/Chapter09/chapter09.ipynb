{
 "cells": [
  {
   "cell_type": "markdown",
   "metadata": {},
   "source": [
    "# Scientific Computing with Python (Second Edition)\n",
    "# Chapter 09\n",
    "\n",
    "*We start by importing all from Numpy. As explained in Chapter 01 the examples are written assuming this import is initially done.*\n"
   ]
  },
  {
   "cell_type": "code",
   "execution_count": 1,
   "metadata": {},
   "outputs": [],
   "source": [
    "from numpy import *"
   ]
  },
  {
   "cell_type": "markdown",
   "metadata": {},
   "source": [
    "## 9.1 The for statement"
   ]
  },
  {
   "cell_type": "code",
   "execution_count": 3,
   "metadata": {},
   "outputs": [
    {
     "name": "stdout",
     "output_type": "stream",
     "text": [
      "a\n",
      "b\n",
      "c\n"
     ]
    }
   ],
   "source": [
    "for s in ['a', 'b', 'c']:\n",
    "    print(s)  # a b c"
   ]
  },
  {
   "cell_type": "code",
   "execution_count": 4,
   "metadata": {},
   "outputs": [
    {
     "name": "stdout",
     "output_type": "stream",
     "text": [
      "(0, 0) 1.0\n",
      "(0, 1) 1.0\n",
      "(0, 2) 1.0\n",
      "(0, 3) 1.0\n",
      "(0, 4) 1.0\n",
      "(1, 0) 1.0\n",
      "(1, 1) 1.0\n",
      "(1, 2) 1.0\n",
      "(1, 3) 1.0\n",
      "(1, 4) 1.0\n",
      "(2, 0) 1.0\n",
      "(2, 1) 1.0\n",
      "(2, 2) 1.0\n",
      "(2, 3) 1.0\n",
      "(2, 4) 1.0\n"
     ]
    }
   ],
   "source": [
    "a=ones((3,5))\n",
    "for k,el in ndenumerate(a):\n",
    "    print(k,el)       \n",
    "# prints something like this:  (1, 3) 1.0"
   ]
  },
  {
   "cell_type": "markdown",
   "metadata": {},
   "source": [
    "## 9.2 Controlling the flow inside the loop"
   ]
  },
  {
   "cell_type": "markdown",
   "metadata": {},
   "source": [
    "*We prepare here the next code example from the book.*"
   ]
  },
  {
   "cell_type": "code",
   "execution_count": 6,
   "metadata": {},
   "outputs": [],
   "source": [
    "def compute():\n",
    "    return 1.e-5\n",
    "tolerance = 1.e-3"
   ]
  },
  {
   "cell_type": "code",
   "execution_count": 7,
   "metadata": {},
   "outputs": [
    {
     "name": "stdout",
     "output_type": "stream",
     "text": [
      "The algorithm converged in 1 steps\n"
     ]
    }
   ],
   "source": [
    "maxIteration = 10000\n",
    "for iteration in range(maxIteration):\n",
    "    residual = compute() # some computation\n",
    "    if residual < tolerance:\n",
    "        break\n",
    "else: # only executed if the for loop is not broken\n",
    "    raise Exception(\"The algorithm did not converge\")\n",
    "print(f\"The algorithm converged in {iteration + 1} steps\")"
   ]
  },
  {
   "cell_type": "markdown",
   "metadata": {},
   "source": [
    "## 9.3 Iterable objects"
   ]
  },
  {
   "cell_type": "code",
   "execution_count": 8,
   "metadata": {},
   "outputs": [],
   "source": [
    "l=[1,2] \n",
    "li=l.__iter__() "
   ]
  },
  {
   "cell_type": "code",
   "execution_count": 9,
   "metadata": {},
   "outputs": [
    {
     "data": {
      "text/plain": [
       "1"
      ]
     },
     "execution_count": 9,
     "metadata": {},
     "output_type": "execute_result"
    }
   ],
   "source": [
    "li.__next__() # returns 1 "
   ]
  },
  {
   "cell_type": "code",
   "execution_count": 10,
   "metadata": {},
   "outputs": [
    {
     "data": {
      "text/plain": [
       "2"
      ]
     },
     "execution_count": 10,
     "metadata": {},
     "output_type": "execute_result"
    }
   ],
   "source": [
    "li.__next__() # returns 2 "
   ]
  },
  {
   "cell_type": "markdown",
   "metadata": {},
   "source": [
    "*Uncomment the next line to see the exception*"
   ]
  },
  {
   "cell_type": "code",
   "execution_count": 12,
   "metadata": {},
   "outputs": [],
   "source": [
    "# li.__next__() # raises StopIteration exception "
   ]
  },
  {
   "cell_type": "markdown",
   "metadata": {},
   "source": [
    "### 9.3.1 Generators"
   ]
  },
  {
   "cell_type": "code",
   "execution_count": 13,
   "metadata": {},
   "outputs": [],
   "source": [
    "def odd_numbers(n): \n",
    "    \"generator for odd numbers less than n\" \n",
    "    for k in range(n): \n",
    "        if k % 2 == 1: \n",
    "           yield k"
   ]
  },
  {
   "cell_type": "code",
   "execution_count": 14,
   "metadata": {},
   "outputs": [
    {
     "name": "stdout",
     "output_type": "stream",
     "text": [
      "1\n",
      "3\n",
      "5\n",
      "7\n",
      "9\n"
     ]
    }
   ],
   "source": [
    "g = odd_numbers(10)\n",
    "for k in g:\n",
    "    ...    # do something with k\n",
    "    print(k)"
   ]
  },
  {
   "cell_type": "code",
   "execution_count": 15,
   "metadata": {},
   "outputs": [
    {
     "name": "stdout",
     "output_type": "stream",
     "text": [
      "1\n",
      "3\n",
      "5\n",
      "7\n",
      "9\n"
     ]
    }
   ],
   "source": [
    "for k in odd_numbers(10):\n",
    "    ... # do something with k\n",
    "    print(k)"
   ]
  },
  {
   "cell_type": "markdown",
   "metadata": {},
   "source": [
    "### 9.3.2 Iterators are disposable"
   ]
  },
  {
   "cell_type": "code",
   "execution_count": 17,
   "metadata": {},
   "outputs": [
    {
     "data": {
      "text/plain": [
       "[]"
      ]
     },
     "execution_count": 17,
     "metadata": {},
     "output_type": "execute_result"
    }
   ],
   "source": [
    "L = ['a', 'b', 'c']\n",
    "iterator = iter(L)\n",
    "list(iterator) # ['a', 'b', 'c']\n",
    "list(iterator) # [] empty list, because the iterator is exhausted"
   ]
  },
  {
   "cell_type": "code",
   "execution_count": 18,
   "metadata": {},
   "outputs": [
    {
     "data": {
      "text/plain": [
       "['a', 'b', 'c']"
      ]
     },
     "execution_count": 18,
     "metadata": {},
     "output_type": "execute_result"
    }
   ],
   "source": [
    "new_iterator = iter(L) # new iterator, ready to be used\n",
    "list(new_iterator) # ['a', 'b', 'c']"
   ]
  },
  {
   "cell_type": "code",
   "execution_count": 19,
   "metadata": {},
   "outputs": [
    {
     "name": "stdout",
     "output_type": "stream",
     "text": [
      "1\n",
      "3\n",
      "5\n",
      "7\n",
      "9\n"
     ]
    }
   ],
   "source": [
    "g = odd_numbers(10)\n",
    "for k in g:\n",
    "    ... # do something with k\n",
    "    print(k)"
   ]
  },
  {
   "cell_type": "code",
   "execution_count": 20,
   "metadata": {},
   "outputs": [],
   "source": [
    "# now the iterator is exhausted:\n",
    "for k in g: # nothing will happen!!\n",
    "    ...\n",
    "    print(k)"
   ]
  },
  {
   "cell_type": "code",
   "execution_count": 22,
   "metadata": {},
   "outputs": [
    {
     "name": "stdout",
     "output_type": "stream",
     "text": [
      "1\n",
      "3\n",
      "5\n",
      "7\n",
      "9\n"
     ]
    }
   ],
   "source": [
    "# to loop through it again, create a new one:\n",
    "g = odd_numbers(10)\n",
    "for k in g:\n",
    "    ...\n",
    "    print(k)"
   ]
  },
  {
   "cell_type": "markdown",
   "metadata": {},
   "source": [
    "### 9.3.3 Iterator tools"
   ]
  },
  {
   "cell_type": "code",
   "execution_count": 23,
   "metadata": {},
   "outputs": [
    {
     "name": "stdout",
     "output_type": "stream",
     "text": [
      "0 a\n",
      "1 b\n",
      "2 c\n"
     ]
    }
   ],
   "source": [
    "A = ['a', 'b', 'c']\n",
    "for iteration, x in enumerate(A):\n",
    "    print(iteration, x)     # result: (0, 'a') (1, 'b') (2, 'c')"
   ]
  },
  {
   "cell_type": "code",
   "execution_count": 25,
   "metadata": {},
   "outputs": [
    {
     "name": "stdout",
     "output_type": "stream",
     "text": [
      "2\n",
      "1\n",
      "0\n"
     ]
    }
   ],
   "source": [
    "A = [0, 1, 2]\n",
    "for elt in reversed(A):\n",
    "    print(elt)      # result: 2 1 0"
   ]
  },
  {
   "cell_type": "code",
   "execution_count": 26,
   "metadata": {},
   "outputs": [],
   "source": [
    "import itertools"
   ]
  },
  {
   "cell_type": "code",
   "execution_count": 27,
   "metadata": {},
   "outputs": [],
   "source": [
    "for iteration in itertools.count():\n",
    "    if iteration > 100:\n",
    "       break # without this, the loop goes on forever\n",
    "       print(f'integer: {iteration}')\n",
    "       # prints the 100 first integer"
   ]
  },
  {
   "cell_type": "code",
   "execution_count": 28,
   "metadata": {},
   "outputs": [
    {
     "name": "stdout",
     "output_type": "stream",
     "text": [
      "0\n",
      "1\n",
      "2\n",
      "3\n",
      "4\n",
      "5\n",
      "6\n",
      "7\n",
      "8\n",
      "9\n"
     ]
    }
   ],
   "source": [
    "from itertools import count, islice\n",
    "for iteration in islice(count(), 10): \n",
    "     # same effect as range(10)\n",
    "        print (iteration)"
   ]
  },
  {
   "cell_type": "code",
   "execution_count": 29,
   "metadata": {},
   "outputs": [
    {
     "data": {
      "text/plain": [
       "[0, 1, 2, 3, 4, 5, 6, 7, 8, 9]"
      ]
     },
     "execution_count": 29,
     "metadata": {},
     "output_type": "execute_result"
    }
   ],
   "source": [
    "list(islice(count(), 10))"
   ]
  },
  {
   "cell_type": "code",
   "execution_count": 31,
   "metadata": {},
   "outputs": [],
   "source": [
    "def odd_numbers():\n",
    "    k=-1\n",
    "    while True:  # this makes it an infinite generator\n",
    "        k+=1\n",
    "        if k%2==1:\n",
    "           yield k"
   ]
  },
  {
   "cell_type": "code",
   "execution_count": 32,
   "metadata": {},
   "outputs": [
    {
     "data": {
      "text/plain": [
       "[21, 37, 53]"
      ]
     },
     "execution_count": 32,
     "metadata": {},
     "output_type": "execute_result"
    }
   ],
   "source": [
    "list(itertools.islice(odd_numbers(),10,30,8)) \n",
    "# returns [21, 37, 53]"
   ]
  },
  {
   "cell_type": "markdown",
   "metadata": {},
   "source": [
    "### 9.3.4 Generators of recursive sequences\n"
   ]
  },
  {
   "cell_type": "code",
   "execution_count": 33,
   "metadata": {},
   "outputs": [],
   "source": [
    "def fibonacci(u0, u1):\n",
    "    \"\"\"\n",
    "    Infinite generator of the Fibonacci sequence.\n",
    "    \"\"\"\n",
    "    yield u0\n",
    "    yield u1\n",
    "    while True:\n",
    "        u0, u1 = u1, u1 + u0  \n",
    "        # we shifted the elements and compute the new one\n",
    "        yield u1"
   ]
  },
  {
   "cell_type": "code",
   "execution_count": 35,
   "metadata": {},
   "outputs": [
    {
     "data": {
      "text/plain": [
       "[0, 1, 1, 2, 3, 5, 8, 13, 21, 34]"
      ]
     },
     "execution_count": 35,
     "metadata": {},
     "output_type": "execute_result"
    }
   ],
   "source": [
    "# sequence of the 10 first Fibonacci numbers:\n",
    "list(itertools.islice(fibonacci(0, 1), 10))"
   ]
  },
  {
   "cell_type": "code",
   "execution_count": 36,
   "metadata": {},
   "outputs": [],
   "source": [
    "def arithmetic_geometric_mean(a, b):\n",
    "    \"\"\"\n",
    "    Generator for the arithmetic and geometric mean\n",
    "    a, b initial values\n",
    "    \"\"\" \n",
    "    while True:    # infinite loop\n",
    "         a, b = (a+b)/2, sqrt(a*b)\n",
    "         yield a, b"
   ]
  },
  {
   "cell_type": "code",
   "execution_count": 37,
   "metadata": {},
   "outputs": [],
   "source": [
    "def elliptic_integral(k, tolerance=1.e-5):\n",
    "    \"\"\"\n",
    "    Compute an elliptic integral of the first kind.\n",
    "    \"\"\"\n",
    "    a_0, b_0 = 1., sqrt(1-k**2)\n",
    "    for a, b in arithmetic_geometric_mean(a_0, b_0):\n",
    "        if abs(a-b) < tolerance:\n",
    "            return pi/(2*a)"
   ]
  },
  {
   "cell_type": "code",
   "execution_count": 38,
   "metadata": {},
   "outputs": [],
   "source": [
    "from itertools import islice\n",
    "def elliptic_integral(k, tolerance=1e-5, maxiter=100):\n",
    "    \"\"\"\n",
    "    Compute an elliptic integral of the first kind.\n",
    "    \"\"\"\n",
    "    a_0, b_0 = 1., sqrt(1-k**2)\n",
    "    for a, b in islice(arithmetic_geometric_mean(a_0, b_0), \n",
    "                                                  maxiter):\n",
    "        if abs(a-b) < tolerance:\n",
    "            return pi/(2*a)\n",
    "    else:\n",
    "        raise Exception(\"Algorithm did not converge\")"
   ]
  },
  {
   "cell_type": "code",
   "execution_count": 39,
   "metadata": {},
   "outputs": [],
   "source": [
    "def pendulum_period(L, theta, g=9.81):\n",
    "    return 4*sqrt(L/g)*elliptic_integral(sin(theta/2))"
   ]
  },
  {
   "cell_type": "code",
   "execution_count": 40,
   "metadata": {},
   "outputs": [
    {
     "data": {
      "text/plain": [
       "2.367841947461051"
      ]
     },
     "execution_count": 40,
     "metadata": {},
     "output_type": "execute_result"
    }
   ],
   "source": [
    "pendulum_period(1,pi/2)"
   ]
  },
  {
   "cell_type": "code",
   "execution_count": 41,
   "metadata": {},
   "outputs": [],
   "source": [
    "def Euler_accelerate(sequence):\n",
    "    \"\"\"\n",
    "    Accelerate the iterator in the variable `sequence`.\n",
    "    \"\"\"\n",
    "    s0 = sequence.__next__() # Si\n",
    "    s1 = sequence.__next__() # Si+1\n",
    "    s2 = sequence.__next__() # Si+2\n",
    "    while True:\n",
    "        yield s0 - ((s1 - s0)**2)/(s2 - 2*s1 + s0)\n",
    "        s0, s1, s2 = s1, s2, sequence.__next__()"
   ]
  },
  {
   "cell_type": "code",
   "execution_count": 42,
   "metadata": {},
   "outputs": [],
   "source": [
    "def pi_series():\n",
    "    sum = 0.\n",
    "    j = 1\n",
    "    for i in itertools.cycle([1, -1]):\n",
    "        yield sum\n",
    "        sum += i/j\n",
    "        j += 2"
   ]
  },
  {
   "cell_type": "code",
   "execution_count": 43,
   "metadata": {},
   "outputs": [
    {
     "data": {
      "text/plain": [
       "[0.75,\n",
       " 0.7916666666666667,\n",
       " 0.7833333333333334,\n",
       " 0.7863095238095239,\n",
       " 0.784920634920635,\n",
       " 0.7856782106782109,\n",
       " 0.7852203352203354,\n",
       " 0.7855179542679545,\n",
       " 0.7853137059019414,\n",
       " 0.7854599047323508,\n",
       " 0.7853516796241258,\n",
       " 0.7854340248151667,\n",
       " 0.7853699222510641,\n",
       " 0.7854207973019391,\n",
       " 0.7853797463988194]"
      ]
     },
     "execution_count": 43,
     "metadata": {},
     "output_type": "execute_result"
    }
   ],
   "source": [
    "N=15\n",
    "list(itertools.islice(Euler_accelerate(pi_series()), N))"
   ]
  },
  {
   "cell_type": "markdown",
   "metadata": {},
   "source": [
    "## 9.4 List-filling patterns\n",
    "### 9.4.1 List filling with the append method\n"
   ]
  },
  {
   "cell_type": "code",
   "execution_count": 47,
   "metadata": {},
   "outputs": [
    {
     "data": {
      "text/plain": [
       "[0, 1, 2]"
      ]
     },
     "execution_count": 47,
     "metadata": {},
     "output_type": "execute_result"
    }
   ],
   "source": [
    "L = []\n",
    "n=3\n",
    "for k in range(n):\n",
    "    # call various functions here\n",
    "    # that compute \"result\"\n",
    "    result = k\n",
    "    L.append(result)\n",
    "L"
   ]
  },
  {
   "cell_type": "markdown",
   "metadata": {},
   "source": [
    "### 9.4.2 List from iterators"
   ]
  },
  {
   "cell_type": "code",
   "execution_count": 48,
   "metadata": {},
   "outputs": [],
   "source": [
    "def result_iterator():\n",
    "    for k in itertools.count(): # infinite iterator\n",
    "        # call various functions here\n",
    "        # that t lists compute \"result\"\n",
    "        result = k\n",
    "        yield result"
   ]
  },
  {
   "cell_type": "code",
   "execution_count": 51,
   "metadata": {},
   "outputs": [
    {
     "data": {
      "text/plain": [
       "[0, 1, 2]"
      ]
     },
     "execution_count": 51,
     "metadata": {},
     "output_type": "execute_result"
    }
   ],
   "source": [
    "L = list(itertools.islice(result_iterator(), n)) # no append needed!\n",
    "L"
   ]
  },
  {
   "cell_type": "markdown",
   "metadata": {},
   "source": [
    "The next statement requires the built-in function `sum`. As we previously imported numpy by \n",
    "`from numpy import *` the next statement uses numpy.sum and will not give us the result described in the book.\n",
    "Deleting the imported `sum` gives us the built-in `sum` back"
   ]
  },
  {
   "cell_type": "code",
   "execution_count": 91,
   "metadata": {},
   "outputs": [],
   "source": [
    "del sum"
   ]
  },
  {
   "cell_type": "code",
   "execution_count": 92,
   "metadata": {},
   "outputs": [
    {
     "data": {
      "text/plain": [
       "190"
      ]
     },
     "execution_count": 92,
     "metadata": {},
     "output_type": "execute_result"
    }
   ],
   "source": [
    "sum(itertools.islice(result_iterator(), n))"
   ]
  },
  {
   "cell_type": "code",
   "execution_count": 93,
   "metadata": {},
   "outputs": [],
   "source": [
    "L=list(itertools.takewhile(lambda x: abs(x) > 1.e-8, result_iterator()))"
   ]
  },
  {
   "cell_type": "code",
   "execution_count": 94,
   "metadata": {},
   "outputs": [
    {
     "data": {
      "text/plain": [
       "[]"
      ]
     },
     "execution_count": 94,
     "metadata": {},
     "output_type": "execute_result"
    }
   ],
   "source": [
    "L"
   ]
  },
  {
   "cell_type": "markdown",
   "metadata": {},
   "source": [
    "### 9.4.3 Storing generated values"
   ]
  },
  {
   "cell_type": "code",
   "execution_count": 95,
   "metadata": {},
   "outputs": [],
   "source": [
    "import itertools\n",
    "def power_sequence(u0):\n",
    "    u = u0\n",
    "    while True:\n",
    "        yield u\n",
    "        u = u**2"
   ]
  },
  {
   "cell_type": "markdown",
   "metadata": {},
   "source": [
    "*To see the OverflowError exception, uncomment the next line.*"
   ]
  },
  {
   "cell_type": "code",
   "execution_count": 96,
   "metadata": {},
   "outputs": [],
   "source": [
    "# list(itertools.islice(power_sequence(2.), 20))"
   ]
  },
  {
   "cell_type": "code",
   "execution_count": 97,
   "metadata": {},
   "outputs": [
    {
     "data": {
      "text/plain": [
       "[2.0,\n",
       " 4.0,\n",
       " 16.0,\n",
       " 256.0,\n",
       " 65536.0,\n",
       " 4294967296.0,\n",
       " 1.8446744073709552e+19,\n",
       " 3.402823669209385e+38,\n",
       " 1.157920892373162e+77,\n",
       " 1.3407807929942597e+154]"
      ]
     },
     "execution_count": 97,
     "metadata": {},
     "output_type": "execute_result"
    }
   ],
   "source": [
    "generator = power_sequence(2.)\n",
    "L = []\n",
    "for iteration in range(20):\n",
    "    try:\n",
    "        L.append(next(generator))\n",
    "    except Exception:\n",
    "        break\n",
    "L"
   ]
  },
  {
   "cell_type": "markdown",
   "metadata": {},
   "source": [
    "## 9.5 When iterators behave as lists\n",
    "### 9.5.1 Generator expressions\n"
   ]
  },
  {
   "cell_type": "code",
   "execution_count": 98,
   "metadata": {},
   "outputs": [],
   "source": [
    "g = (n for n in range(1000) if not n % 100)\n",
    "# generator for  100, 200, ... , 900"
   ]
  },
  {
   "cell_type": "markdown",
   "metadata": {},
   "source": [
    "*See the comment above, concerning built-in functions and numpy's `sum`*"
   ]
  },
  {
   "cell_type": "code",
   "execution_count": 99,
   "metadata": {},
   "outputs": [
    {
     "data": {
      "text/plain": [
       "4500"
      ]
     },
     "execution_count": 99,
     "metadata": {},
     "output_type": "execute_result"
    }
   ],
   "source": [
    "sum(n for n in range(1000) if not n % 100) # returns 4500 "
   ]
  },
  {
   "cell_type": "code",
   "execution_count": 100,
   "metadata": {},
   "outputs": [
    {
     "data": {
      "text/plain": [
       "1.5961632439130233"
      ]
     },
     "execution_count": 100,
     "metadata": {},
     "output_type": "execute_result"
    }
   ],
   "source": [
    "N=20\n",
    "s=2\n",
    "sum(1/n**s for n in itertools.islice(itertools.count(1), N))\n"
   ]
  },
  {
   "cell_type": "code",
   "execution_count": 101,
   "metadata": {},
   "outputs": [
    {
     "data": {
      "text/plain": [
       "[1, 2, 3, 4, 5, 6, 7, 8, 9, 10, 11, 12, 13, 14, 15, 16, 17, 18, 19, 20]"
      ]
     },
     "execution_count": 101,
     "metadata": {},
     "output_type": "execute_result"
    }
   ],
   "source": [
    "list(itertools.islice(itertools.count(1), N))"
   ]
  },
  {
   "cell_type": "code",
   "execution_count": 102,
   "metadata": {},
   "outputs": [],
   "source": [
    "def generate_zeta(s):\n",
    "    for n in itertools.count(1):\n",
    "        yield 1/n**s"
   ]
  },
  {
   "cell_type": "code",
   "execution_count": 103,
   "metadata": {},
   "outputs": [],
   "source": [
    "def zeta(N, s):\n",
    "    # make sure that you do not use the scipy.sum here\n",
    "    return sum(itertools.islice(generate_zeta(s), N))"
   ]
  },
  {
   "cell_type": "code",
   "execution_count": 104,
   "metadata": {},
   "outputs": [
    {
     "data": {
      "text/plain": [
       "1.5961632439130233"
      ]
     },
     "execution_count": 104,
     "metadata": {},
     "output_type": "execute_result"
    }
   ],
   "source": [
    "zeta(20,2)"
   ]
  },
  {
   "cell_type": "markdown",
   "metadata": {},
   "source": [
    "### 9.5.2 Zipping iterators"
   ]
  },
  {
   "cell_type": "markdown",
   "metadata": {},
   "source": [
    "*We first create for the example two iterators:*"
   ]
  },
  {
   "cell_type": "code",
   "execution_count": 108,
   "metadata": {},
   "outputs": [],
   "source": [
    "def odd_numbers():\n",
    "    k=-1\n",
    "    while True:  # this makes it an infinite generator\n",
    "        k+=1\n",
    "        if k%2==1:\n",
    "           yield k\n",
    "def even_numbers():\n",
    "    k=0\n",
    "    while True:  # this makes it an infinite generator\n",
    "        k+=1\n",
    "        if k%2==0:\n",
    "           yield k        "
   ]
  },
  {
   "cell_type": "code",
   "execution_count": 109,
   "metadata": {},
   "outputs": [
    {
     "name": "stdout",
     "output_type": "stream",
     "text": [
      "1 2\n",
      "3 4\n",
      "5 6\n",
      "7 8\n",
      "9 10\n",
      "11 12\n",
      "13 14\n",
      "15 16\n",
      "17 18\n",
      "19 20\n"
     ]
    }
   ],
   "source": [
    "xg = itertools.islice(odd_numbers(),10)  # some iterator\n",
    "yg = itertools.islice(even_numbers(),10)  # another iterator\n",
    "\n",
    "for x, y in zip(xg, yg):\n",
    "    print(x, y)"
   ]
  },
  {
   "cell_type": "markdown",
   "metadata": {},
   "source": [
    "## 9.6 Iterator objects\n"
   ]
  },
  {
   "cell_type": "code",
   "execution_count": 112,
   "metadata": {},
   "outputs": [
    {
     "name": "stdout",
     "output_type": "stream",
     "text": [
      "1\n",
      "1.1\n",
      "1.3\n"
     ]
    },
    {
     "data": {
      "text/plain": [
       "[1, 1.1, 1.3]"
      ]
     },
     "execution_count": 112,
     "metadata": {},
     "output_type": "execute_result"
    }
   ],
   "source": [
    "class OdeStore:\n",
    "    \"\"\"\n",
    "    Class to store results of ode computations\n",
    "    \"\"\"\n",
    "    def __init__(self, data):\n",
    "        \"data is a list of the form [[t0, u0], [t1, u1],...]\"\n",
    "        self.data = data\n",
    "    \n",
    "    def __iter__(self):\n",
    "        \"By default, we iterate on the values u0, u1,...\"\n",
    "        for t, u in self.data:\n",
    "            yield u\n",
    "\n",
    "store = OdeStore([[0, 1], [0.1, 1.1], [0.2, 1.3]])\n",
    "for u in store:\n",
    "    print(u)\n",
    "# result: 1, 1.1, 1.3\n",
    "list(store) # [1, 1.1, 1.3]"
   ]
  },
  {
   "cell_type": "markdown",
   "metadata": {},
   "source": [
    "## 9.7 Infinite iterations\n",
    "### 9.7.1 The while loop\n",
    "*no complete code in this subsecdtion*\n",
    "### 9.7.2 Recursion\n",
    "\n"
   ]
  },
  {
   "cell_type": "code",
   "execution_count": 115,
   "metadata": {},
   "outputs": [],
   "source": [
    "def f(N):\n",
    "    if N == 0: \n",
    "        return 0\n",
    "    return f(N-1)"
   ]
  }
 ],
 "metadata": {
  "kernelspec": {
   "display_name": "Python 3",
   "language": "python",
   "name": "python3"
  },
  "language_info": {
   "codemirror_mode": {
    "name": "ipython",
    "version": 3
   },
   "file_extension": ".py",
   "mimetype": "text/x-python",
   "name": "python",
   "nbconvert_exporter": "python",
   "pygments_lexer": "ipython3",
   "version": "3.7.6"
  }
 },
 "nbformat": 4,
 "nbformat_minor": 4
}
