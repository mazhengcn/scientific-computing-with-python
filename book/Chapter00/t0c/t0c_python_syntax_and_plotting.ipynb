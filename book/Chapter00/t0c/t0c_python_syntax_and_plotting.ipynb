{
 "cells": [
  {
   "cell_type": "markdown",
   "metadata": {},
   "source": [
    "# An introduction to Python syntax and plotting"
   ]
  },
  {
   "cell_type": "markdown",
   "metadata": {},
   "source": [
    "In this tutorial, we will learn some of the basics of programming in Python. While this will all become muscle memory, it's useful to keep this as a reference. To follow along with this tutorial, launch a Jupyter notebook [as described in tutorial 0b](t0b_jupyter_notebooks.html) and type along as we go into the code cells. "
   ]
  },
  {
   "cell_type": "markdown",
   "metadata": {},
   "source": [
    "## Basic shell commands"
   ]
  },
  {
   "cell_type": "markdown",
   "metadata": {},
   "source": [
    "In [Tutorial 0a](http://rpgroup.caltech.edu/bige105/tutorials/t0a/t0a_setting_up_python.html) and [tutorial 0b](http://rpgroup.caltech.edu/bige105/tutorials/t0b/t0b_jupyter_notebooks.html), you learned how to launch an IPython interpreter from a terminal. Having knowledge of some basic UNIX command line skills, such as moving between directories, listing files in a given directory, and making new directories, is imperative to becoming a computational scientist. Briefly, you will only need to know three commands.\n",
    "\n",
    "\n",
    "1. `cd` - \"Change directories\". By typing this command, you will be able to move from where you currently are to another folder. You can do this by specifically typing a path, such as `cd /home/zheng/repos/teaching/Scientific-Computing`. You can also move *relative* to where you currently are by using some shorthand notation. Typing `cd ../` will move you **up** one directory, `cd ../../` will move you up two directories, and `cd ~/` will move you to your home directory. \n",
    "\n",
    "2. `ls` - \"List files and directories\". Typing this command in your terminal will list all files and directories in your current working directory.\n",
    "\n",
    "3. `mkdir` - \"Make directory\". This is useful for making new directories on your computer without having to open Finder or Windows Explorer. For example, I can make a `data` folder in my `Scientific-Computing` root directory by typing `mkdir data`. I could make another folder called `good_data` two directories up from my current folder by typing `mkdir ../../data`. \n",
    "\n",
    "With these three commands memorized, you should be able to navigate around your computer without leaving the terminal. "
   ]
  },
  {
   "cell_type": "markdown",
   "metadata": {},
   "source": [
    "## `Hello, world` "
   ]
  },
  {
   "cell_type": "markdown",
   "metadata": {},
   "source": [
    "As is typical when learning any programming language, we'll start by making our computer speak to us. We'll do this by using one of the [many standard functions in Python](https://docs.python.org/3/library/functions.html), the `print` function.  "
   ]
  },
  {
   "cell_type": "code",
   "execution_count": 4,
   "metadata": {},
   "outputs": [
    {
     "name": "stdout",
     "output_type": "stream",
     "text": [
      "Hello, world\n"
     ]
    }
   ],
   "source": [
    "print('Hello, world')"
   ]
  },
  {
   "cell_type": "markdown",
   "metadata": {},
   "source": [
    "In the above code, we called the `print` function and passed the text `Hello, world.` surrounded by single quotation marks `''`. The text was passed as an **argument** to the `print` **function** by placing it in the parentheses. The quotation marks determined the **type** of the argument to be text, known as a **string**. While we used single quotations in the above code, we could also use double quotations `\"\"`. These are exchangeable in Python.\n",
    "\n",
    "While our `'Hello, world.'` is a string, this function can also be used to print other types such as integers (**`int`**), decimals (**`float`**), and `True/False` (**`bool`**) by passing them as arguments to the `print` function. "
   ]
  },
  {
   "cell_type": "code",
   "execution_count": 5,
   "metadata": {},
   "outputs": [
    {
     "name": "stdout",
     "output_type": "stream",
     "text": [
      "10\n",
      "3.14159\n",
      "True\n"
     ]
    }
   ],
   "source": [
    "print(10)\n",
    "print(3.14159)\n",
    "print(True)"
   ]
  },
  {
   "cell_type": "markdown",
   "metadata": {},
   "source": [
    "In the above code, it would be nice to be able to add a **comment** about what the type of each variable is that we are printing, but we don't want this comment to be interpreted by Python. By adding a pound symbol (`#`) before a line of code, we can force Python to ignore it.  "
   ]
  },
  {
   "cell_type": "code",
   "execution_count": 6,
   "metadata": {},
   "outputs": [
    {
     "name": "stdout",
     "output_type": "stream",
     "text": [
      "10\n",
      "3.14159\n",
      "True\n"
     ]
    }
   ],
   "source": [
    "# Print an integer\n",
    "print(10)\n",
    "\n",
    "# Print a float\n",
    "print(3.14159)\n",
    "\n",
    "# Print a bool\n",
    "print(True)"
   ]
  },
  {
   "cell_type": "markdown",
   "metadata": {},
   "source": [
    "We see that we get the same result."
   ]
  },
  {
   "cell_type": "markdown",
   "metadata": {},
   "source": [
    "## Basic math "
   ]
  },
  {
   "cell_type": "markdown",
   "metadata": {},
   "source": [
    "###  Arithmetic"
   ]
  },
  {
   "cell_type": "markdown",
   "metadata": {},
   "source": [
    "The crux of scientific programming is the ability to perform mathematical operations. Python can do a variety of simple mathematical functions by default.  "
   ]
  },
  {
   "cell_type": "code",
   "execution_count": 7,
   "metadata": {},
   "outputs": [
    {
     "name": "stdout",
     "output_type": "stream",
     "text": [
      "2\n",
      "2.0\n",
      "2\n",
      "6\n"
     ]
    }
   ],
   "source": [
    "print(1 + 1) # this should be 2\n",
    "print(4 / 2) # this should be 2\n",
    "print(40 - 38) # this should be 2\n",
    "print(2^4) # this should be 16"
   ]
  },
  {
   "cell_type": "markdown",
   "metadata": {},
   "source": [
    "Everything looks good, but what happened at the end? In Python, you exponentiate terms using a double asterisk (`**`) and **not** a carrot (`^`). The carrot executes a bitwise operation which is completely different than exponentiation. "
   ]
  },
  {
   "cell_type": "code",
   "execution_count": 8,
   "metadata": {},
   "outputs": [
    {
     "name": "stdout",
     "output_type": "stream",
     "text": [
      "16\n"
     ]
    }
   ],
   "source": [
    "print(2**4) # this should be 16"
   ]
  },
  {
   "cell_type": "markdown",
   "metadata": {},
   "source": [
    "### Lists and tuples"
   ]
  },
  {
   "cell_type": "markdown",
   "metadata": {},
   "source": [
    "So far, we've learned about floats, ints, bools, and strings as well as how to assign them to variables. But what about when we want to work with a series of these kinds of values? There are a few ways in which we can do this $-$ **lists** (values within brackets `[]`), **tuples** (values within parenthesis `()`), and **arrays** (which we'll learn about in the next section)."
   ]
  },
  {
   "cell_type": "code",
   "execution_count": 13,
   "metadata": {},
   "outputs": [],
   "source": [
    "# Generate some lists and arrays.\n",
    "example_list = [1, 2, 3]\n",
    "example_tuple = (1, 2, 3)\n",
    "list_of_lists = [[1, 2, 3]]\n",
    "tuple_of_lists = ([1, 2, 3], [200, 2], 1)\n",
    "mixed_type_list = [1, 2, 'biology', 'geology', 10.028]"
   ]
  },
  {
   "cell_type": "markdown",
   "metadata": {},
   "source": [
    "Note that lists and arrays can have mixed types. Once we have a list or a tuple, we can extract a single value or a range of values by **indexing**. "
   ]
  },
  {
   "cell_type": "code",
   "execution_count": 14,
   "metadata": {},
   "outputs": [
    {
     "name": "stdout",
     "output_type": "stream",
     "text": [
      "1\n",
      "3\n",
      "[1, 2]\n",
      "3\n"
     ]
    }
   ],
   "source": [
    "# Index some values.\n",
    "print(example_list[0])  # should be 1\n",
    "print(example_tuple[2])  # should be 3\n",
    "print(example_list[0:2]) # should be 1 and 2\n",
    "print(example_list[-1])  # This will give the last entry of the list "
   ]
  },
  {
   "cell_type": "markdown",
   "metadata": {},
   "source": [
    "To get the first value of the list, I started with zero. **In Python, indexing begins at `0`.** This is different than in other programming languages such as MATLAB which begins at `1`.\n",
    "\n",
    "So what exactly is the difference between tuples and lists? **Lists are mutable. Tuples are not**. This means once a value in a tuple is set in place, it can't be changed without redefining the tuple. Let's demonstrate this by trying to change the first value of our `example_list` and `example_tuple`."
   ]
  },
  {
   "cell_type": "code",
   "execution_count": 15,
   "metadata": {},
   "outputs": [
    {
     "name": "stdout",
     "output_type": "stream",
     "text": [
      "[1000, 2, 3]\n"
     ]
    },
    {
     "ename": "TypeError",
     "evalue": "'tuple' object does not support item assignment",
     "output_type": "error",
     "traceback": [
      "\u001b[0;31m---------------------------------------------------------------------------\u001b[0m",
      "\u001b[0;31mTypeError\u001b[0m                                 Traceback (most recent call last)",
      "\u001b[0;32m<ipython-input-15-a399fb3f8313>\u001b[0m in \u001b[0;36m<module>\u001b[0;34m\u001b[0m\n\u001b[1;32m      2\u001b[0m \u001b[0mexample_list\u001b[0m\u001b[0;34m[\u001b[0m\u001b[0;36m0\u001b[0m\u001b[0;34m]\u001b[0m \u001b[0;34m=\u001b[0m \u001b[0;36m1000\u001b[0m\u001b[0;34m\u001b[0m\u001b[0;34m\u001b[0m\u001b[0m\n\u001b[1;32m      3\u001b[0m \u001b[0mprint\u001b[0m\u001b[0;34m(\u001b[0m\u001b[0mexample_list\u001b[0m\u001b[0;34m)\u001b[0m\u001b[0;34m\u001b[0m\u001b[0;34m\u001b[0m\u001b[0m\n\u001b[0;32m----> 4\u001b[0;31m \u001b[0mexample_tuple\u001b[0m\u001b[0;34m[\u001b[0m\u001b[0;36m0\u001b[0m\u001b[0;34m]\u001b[0m \u001b[0;34m=\u001b[0m \u001b[0;36m1000\u001b[0m\u001b[0;34m\u001b[0m\u001b[0;34m\u001b[0m\u001b[0m\n\u001b[0m\u001b[1;32m      5\u001b[0m \u001b[0mprint\u001b[0m\u001b[0;34m(\u001b[0m\u001b[0mexample_tuple\u001b[0m\u001b[0;34m)\u001b[0m\u001b[0;34m\u001b[0m\u001b[0;34m\u001b[0m\u001b[0m\n",
      "\u001b[0;31mTypeError\u001b[0m: 'tuple' object does not support item assignment"
     ]
    }
   ],
   "source": [
    "# Change the first entry to 1000 \n",
    "example_list[0] = 1000\n",
    "print(example_list)\n",
    "example_tuple[0] = 1000\n",
    "print(example_tuple)"
   ]
  },
  {
   "cell_type": "markdown",
   "metadata": {},
   "source": [
    "Python yelled at me and told me that I can't assign a current value in a tuple. This is a very important point. For example, if you want to have some process output a series of values you don't want to change, put them in a tuple. Otherwise, put them in a list or an array. \n",
    "\n",
    "Lists **are** mutable, but we have to be careful with performing arithmetic operations on them. For example, the operators `+`,`-`, `**`, and `/` will give you errors. However, the `*` operator will concatenate a list with itself."
   ]
  },
  {
   "cell_type": "code",
   "execution_count": 16,
   "metadata": {},
   "outputs": [
    {
     "name": "stdout",
     "output_type": "stream",
     "text": [
      "[2, 4, 6, 2, 4, 6]\n",
      "[2, 4, 6, 2, 4, 6, 2, 4, 6, 2, 4, 6, 2, 4, 6]\n"
     ]
    }
   ],
   "source": [
    "# Do list arithmetic.\n",
    "next_list = [2, 4, 6]\n",
    "print(next_list * 2)  # Should be [2, 4, 6, 2, 4, 6]\n",
    "print(next_list * 5)  # Should be the same list repeated five times."
   ]
  },
  {
   "cell_type": "markdown",
   "metadata": {},
   "source": [
    "So how do we do more complicated mathematical operations on a series of numbers? How can I multiply each element of an array by five? How do I take the exponential of each element? How do I perform a dot product between two series? To perform such tasks, we will have to import another python module, [NumPy](http://www.numpy.org). "
   ]
  },
  {
   "cell_type": "markdown",
   "metadata": {},
   "source": [
    "## Importing modules and working with NumPy"
   ]
  },
  {
   "cell_type": "markdown",
   "metadata": {},
   "source": [
    "When you open a Python interpreter or run a script, you are only loading the 'standard' Python packages. This means that you are not loading everything you could possibly want, but only the packages you need to perform the task. To perform more elaborate computation in Python, we will need to import an external **module** called NumPy. "
   ]
  },
  {
   "cell_type": "code",
   "execution_count": 2,
   "metadata": {},
   "outputs": [],
   "source": [
    "# Import the NumPy module and give it an alias\n",
    "import numpy as np"
   ]
  },
  {
   "cell_type": "markdown",
   "metadata": {},
   "source": [
    "Whenever you write a Python script, you should always import the modules you will need at the very beginning. That way, all of the required packages will be loaded and ready to go when you start loading them. \n",
    "\n",
    "Let's talk about the syntax of the above line. I told the Python interpreter that it should **import** the module called `numpy` and give it the **alias** of `np`. This means whenever I have to call a  Numpy associated function, I can do so by typing `np.function_name` instead of `numpy.function_name`. The alias can be whatever you would like it to be, but you should stick by the community standards so your code is clear to everyone who is trying to figure out what you are doing. \n",
    "\n",
    "Numpy is the premier numerical computing module for Python. With it, we have myriad functions for peforming numerical operations."
   ]
  },
  {
   "cell_type": "code",
   "execution_count": 18,
   "metadata": {},
   "outputs": [
    {
     "name": "stdout",
     "output_type": "stream",
     "text": [
      "0.36787944117144233\n",
      "0.8414709848078965\n",
      "-0.3401272599624713\n",
      "-2.4492935982947064e-16\n"
     ]
    }
   ],
   "source": [
    "# Demonstrate the power of numpy.\n",
    "print(np.exp(-1))\n",
    "print(np.sin(1))\n",
    "print(np.cos(2 * np.sin(5)))\n",
    "print(np.sin(2 * np.pi))"
   ]
  },
  {
   "cell_type": "markdown",
   "metadata": {},
   "source": [
    "With numpy comes a new data type called **numpy arrays**. These are series of values which are mutable (just like lists) which cannot have a mixed data type (unlike lists and tuples).  We can also perform mathematical operations on arrays."
   ]
  },
  {
   "cell_type": "code",
   "execution_count": 19,
   "metadata": {},
   "outputs": [
    {
     "name": "stdout",
     "output_type": "stream",
     "text": [
      "[2 4 6]\n",
      "[0.33333333 0.66666667 1.        ]\n",
      "[1 4 9]\n",
      "14\n"
     ]
    }
   ],
   "source": [
    "# Demonstrate the magic of numpy arrays\n",
    "my_array = np.array([1, 2, 3])\n",
    "\n",
    "#Basic arithmetic\n",
    "print(my_array * 2)  # Element-wise multiplication\n",
    "print(my_array / 3)  # Element-wise division\n",
    "print(my_array * my_array)  # Element-wise multiplication\n",
    "print(np.dot(my_array, my_array)) # Dot product of two arrays"
   ]
  },
  {
   "cell_type": "markdown",
   "metadata": {},
   "source": [
    "Numpy arrays are not limited to being one-dimensional. We can create n-dimensional numpy arrays with ease."
   ]
  },
  {
   "cell_type": "code",
   "execution_count": 20,
   "metadata": {},
   "outputs": [
    {
     "name": "stdout",
     "output_type": "stream",
     "text": [
      "[1 2 3 4]\n",
      "[[1 2 3 4]\n",
      " [5 6 7 8]]\n"
     ]
    }
   ],
   "source": [
    "# Create multi-dimensional arrays\n",
    "one_dimensional_array = np.array([1, 2, 3, 4])\n",
    "two_dimensional_array = np.array([[1, 2, 3, 4],\n",
    "                                  [5, 6, 7, 8]])  \n",
    "\n",
    "print(one_dimensional_array)\n",
    "print(two_dimensional_array)"
   ]
  },
  {
   "cell_type": "markdown",
   "metadata": {},
   "source": [
    "We can even make numpy make series of values for us! This will be very useful once we start manipulating images and making plots. "
   ]
  },
  {
   "cell_type": "code",
   "execution_count": 21,
   "metadata": {},
   "outputs": [],
   "source": [
    "# Automatically generate series of values.\n",
    "linear_spaced = np.linspace(0, 10, 1000)  # Generates 1000 points between 0 and 10 \n",
    "log_spaced = np.logspace(-1, 1, 200) # Generates 200 points logarithmically spaced \n",
    "                                     # between .1 and 10\n",
    "aranged = np.arange(0, 50, 2)  # Generates values between 0 and 50 taking steps of \n",
    "                               # two."
   ]
  },
  {
   "cell_type": "markdown",
   "metadata": {},
   "source": [
    "It is impossible to perform scientific computing in Python without using numpy."
   ]
  },
  {
   "cell_type": "markdown",
   "metadata": {},
   "source": [
    "##  Checking type, length, and shape"
   ]
  },
  {
   "cell_type": "markdown",
   "metadata": {},
   "source": [
    "It's useful to be able to see some properties of variables we assign. Let's look back at the sequence strings we made earlier and extract some of their properties. "
   ]
  },
  {
   "cell_type": "code",
   "execution_count": 22,
   "metadata": {},
   "outputs": [
    {
     "name": "stdout",
     "output_type": "stream",
     "text": [
      "<class 'str'>\n",
      "<class 'float'>\n",
      "<class 'bool'>\n",
      "<class 'int'>\n",
      "<class 'list'>\n",
      "<class 'tuple'>\n",
      "<class 'numpy.ndarray'>\n"
     ]
    }
   ],
   "source": [
    "# Generate some variable with different types.\n",
    "string_type = 'AATGATTCG'\n",
    "float_type = 3.14159\n",
    "bool_type = True\n",
    "int_type = 3\n",
    "list_type = ['Escherichia coli', 'Salmonella enterica', 10]\n",
    "tuple_type = ('Geospiza fortis', 3)\n",
    "nparray_type = np.ones_like(tuple_type)\n",
    "\n",
    "# Print their types\n",
    "print(type(string_type))\n",
    "print(type(float_type))\n",
    "print(type(bool_type))\n",
    "print(type(int_type))\n",
    "print(type(list_type))\n",
    "print(type(tuple_type))\n",
    "print(type(nparray_type))"
   ]
  },
  {
   "cell_type": "markdown",
   "metadata": {},
   "source": [
    "## Plotting using `matplotlib`"
   ]
  },
  {
   "cell_type": "markdown",
   "metadata": {},
   "source": [
    "There are many plotting utilities available for Python. Some notable examples include [Bokeh](http://bokeh.pydata.org/en/latest) for interactive plotting, [Seaborn](http://seaborn.pydata.org) and [Altair](https://altair-viz.github.io) for statistical visualization, and a Python port of the popular R programming language plotting utility [ggplot](https://github.com/yhat/ggplot). While interactive plotting is likely the visualization tool of the future, the most common (and full featured) plotting utility for Python as of this writing is [matplotlib](http://matplotlib.org). It was designed with the plotting syntax and style of MATLAB in mind and many of the commands are similiar. As is the case with numpy, matplotlib is not within the standard libray of Python and must be imported."
   ]
  },
  {
   "cell_type": "code",
   "execution_count": 4,
   "metadata": {},
   "outputs": [],
   "source": [
    "# Load the plotting utility matplotlib with an alias plt.\n",
    "import matplotlib.pyplot as plt\n",
    "\n",
    "# The following line allows for plots to be rendered in this notebook. \n",
    "%matplotlib inline"
   ]
  },
  {
   "cell_type": "code",
   "execution_count": 3,
   "metadata": {},
   "outputs": [],
   "source": [
    "number_of_divisions = 10\n",
    "\n",
    "# Establish a vector of the division cycles\n",
    "division_vector = np.arange(0, number_of_divisions + 1, 1)"
   ]
  },
  {
   "cell_type": "markdown",
   "metadata": {},
   "source": [
    "Now all that is left is to plot it! We can use the `plot` function of matplotlib to generate our scatterplot. We'll choose small circles as our markers and provide the approriate $x$ and $y$ labels as we always should. We'll also add a legend to our plot to show that these data poitns are from a simulation. "
   ]
  },
  {
   "cell_type": "code",
   "execution_count": 8,
   "metadata": {},
   "outputs": [
    {
     "data": {
      "text/plain": [
       "<matplotlib.legend.Legend at 0x7f3afa2d4a60>"
      ]
     },
     "execution_count": 8,
     "metadata": {},
     "output_type": "execute_result"
    },
    {
     "data": {
      "image/png": "[encoded data removed]",
      "text/plain": [
       "<Figure size 432x288 with 1 Axes>"
      ]
     },
     "metadata": {},
     "output_type": "display_data"
    }
   ],
   "source": [
    "# Generate the plot.\n",
    "plt.plot(division_vector, (division_vector - 5) ** 2, 'o', label='simulation')\n",
    "\n",
    "# Set the axis labels.\n",
    "plt.xlabel('number of divisions')\n",
    "plt.ylabel('number of cells')\n",
    "\n",
    "# Add a legend\n",
    "plt.legend()"
   ]
  },
  {
   "cell_type": "markdown",
   "metadata": {},
   "source": [
    "In calling the `plt.plot()` function, we first passed it the $x$ and $y$ data, told it to plot the points as circles (through the `'o'` argument), and finally gave it a label. \n",
    "\n",
    "To me, this plot is pretty ugly. Every aspect of this plot can be stylized to your liking, althought it will take a little bit of work. However, we can import the `seaborn` plotting utility which will stylize all of our plots and make them much clearer to interpret."
   ]
  },
  {
   "cell_type": "code",
   "execution_count": 6,
   "metadata": {},
   "outputs": [],
   "source": [
    "import seaborn as sns\n",
    "sns.set()"
   ]
  },
  {
   "cell_type": "markdown",
   "metadata": {},
   "source": [
    " With this imported, let's go ahead and remake the plot from above. We'll also save it using the `plt.savefig` function. With this, you'll be able to insert your plots into the PDF assignments you will turn in. "
   ]
  },
  {
   "cell_type": "code",
   "execution_count": 9,
   "metadata": {},
   "outputs": [
    {
     "data": {
      "image/png": "[encoded data removed]",
      "text/plain": [
       "<Figure size 432x288 with 1 Axes>"
      ]
     },
     "metadata": {},
     "output_type": "display_data"
    }
   ],
   "source": [
    "# Generate the plot.\n",
    "plt.plot(division_vector, (division_vector - 5) ** 2, 'o', label='simulation')\n",
    "\n",
    "# Set the axis labels.\n",
    "plt.xlabel('number of divisions')\n",
    "plt.ylabel('number of cells')\n",
    "\n",
    "# Add a legend\n",
    "plt.legend()\n",
    "plt.savefig('growth_simulation.pdf')"
   ]
  },
  {
   "cell_type": "markdown",
   "metadata": {},
   "source": [
    "That's much better! "
   ]
  }
 ],
 "metadata": {
  "anaconda-cloud": {},
  "kernelspec": {
   "display_name": "Python 3",
   "language": "python",
   "name": "python3"
  },
  "language_info": {
   "codemirror_mode": {
    "name": "ipython",
    "version": 3
   },
   "file_extension": ".py",
   "mimetype": "text/x-python",
   "name": "python",
   "nbconvert_exporter": "python",
   "pygments_lexer": "ipython3",
   "version": "3.9.7"
  }
 },
 "nbformat": 4,
 "nbformat_minor": 4
}
