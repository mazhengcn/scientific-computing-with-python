{
 "cells": [
  {
   "cell_type": "markdown",
   "metadata": {},
   "source": [
    "# Scientific Computing with Python (Second Edition)\n",
    "\n",
    "## Chapter 18: Comprehensive Examples\n",
    "\n",
    "*We start by importing all from Numpy. As explained in Chapter 01 the examples are written assuming this import is initially done.*\n"
   ]
  },
  {
   "cell_type": "code",
   "execution_count": null,
   "metadata": {},
   "outputs": [],
   "source": [
    "from mpi4py import MPI\n",
    "comm=MPI.COMM_WORLD  # making a communicator instance\n",
    "rank=comm.Get_rank() # querrying for the numeric identifyer of the core \n",
    "size=comm.Get_size() # the total number of cores assigned"
   ]
  },
  {
   "cell_type": "code",
   "execution_count": null,
   "metadata": {},
   "outputs": [],
   "source": [
    "from mpi4py import MPI\n",
    "comm=MPI.COMM_WORLD # making a communicator instance\n",
    "rank=comm.Get_rank() # querrying for the numeric identifyer of the core \n",
    "size=comm.Get_size() # the total number of cores assigned \n",
    "a=15\n",
    "b=2\n",
    "if rank==0:\n",
    "    print(f'Core {rank} computes {a}+{b}={a+b}')\n",
    "if rank==1:\n",
    "    print(f'Core {rank} computes {a}*{b}={a*b}')\n",
    "if rank==2:\n",
    "    print(f'Core {rank} computes {a}**{b}={a**b}')"
   ]
  },
  {
   "cell_type": "code",
   "execution_count": 1,
   "metadata": {},
   "outputs": [
    {
     "name": "stderr",
     "output_type": "stream",
     "text": [
      "UsageError: Cell magic `%%px` not found.\n"
     ]
    }
   ],
   "source": [
    "%%px --targets ::2"
   ]
  },
  {
   "cell_type": "code",
   "execution_count": null,
   "metadata": {},
   "outputs": [],
   "source": [
    "from IPython import *\n",
    "from mpi4py import MPI\n",
    "comm=MPI.COMM_WORLD # making a communicator instance\n",
    "rank=comm.Get_rank() # querying for the numeric identifier of the core \n",
    "size=comm.Get_size() # the total number of cores assigned \n",
    "if not (size==2):\n",
    "    raise Exception(f\"This examples requires two processes.\" \\\n",
    "                    f\"{size} processes given.\")"
   ]
  },
  {
   "cell_type": "code",
   "execution_count": null,
   "metadata": {},
   "outputs": [],
   "source": [
    "print(size)"
   ]
  },
  {
   "cell_type": "code",
   "execution_count": null,
   "metadata": {},
   "outputs": [],
   "source": []
  }
 ],
 "metadata": {
  "kernelspec": {
   "display_name": "Python 3",
   "language": "python",
   "name": "python3"
  },
  "language_info": {
   "codemirror_mode": {
    "name": "ipython",
    "version": 3
   },
   "file_extension": ".py",
   "mimetype": "text/x-python",
   "name": "python",
   "nbconvert_exporter": "python",
   "pygments_lexer": "ipython3",
   "version": "3.7.6"
  }
 },
 "nbformat": 4,
 "nbformat_minor": 4
}
